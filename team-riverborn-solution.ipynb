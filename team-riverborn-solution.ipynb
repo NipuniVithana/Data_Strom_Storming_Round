{
 "cells": [
  {
   "cell_type": "markdown",
   "id": "5ccb2cc7",
   "metadata": {
    "papermill": {
     "duration": 0.014603,
     "end_time": "2024-05-17T05:47:13.693900",
     "exception": false,
     "start_time": "2024-05-17T05:47:13.679297",
     "status": "completed"
    },
    "tags": []
   },
   "source": [
    "## Step 1: Importing Libraries"
   ]
  },
  {
   "cell_type": "code",
   "execution_count": 1,
   "id": "e42ac35d",
   "metadata": {
    "_cell_guid": "b1076dfc-b9ad-4769-8c92-a6c4dae69d19",
    "_uuid": "8f2839f25d086af736a60e9eeb907d3b93b6e0e5",
    "execution": {
     "iopub.execute_input": "2024-05-17T05:47:13.723874Z",
     "iopub.status.busy": "2024-05-17T05:47:13.723481Z",
     "iopub.status.idle": "2024-05-17T05:47:16.299418Z",
     "shell.execute_reply": "2024-05-17T05:47:16.298409Z"
    },
    "papermill": {
     "duration": 2.594188,
     "end_time": "2024-05-17T05:47:16.302160",
     "exception": false,
     "start_time": "2024-05-17T05:47:13.707972",
     "status": "completed"
    },
    "tags": []
   },
   "outputs": [],
   "source": [
    "import numpy as np\n",
    "import pandas as pd\n",
    "import seaborn as sns\n",
    "import matplotlib.pyplot as plt\n",
    "\n",
    "from sklearn import preprocessing\n",
    "from sklearn.model_selection import train_test_split\n",
    "from sklearn.linear_model import LogisticRegression\n",
    "from sklearn.multiclass import OneVsOneClassifier,OneVsRestClassifier\n",
    "from sklearn.svm import SVC\n",
    "from sklearn.metrics import accuracy_score,classification_report"
   ]
  },
  {
   "cell_type": "markdown",
   "id": "d96d9e33",
   "metadata": {
    "papermill": {
     "duration": 0.013559,
     "end_time": "2024-05-17T05:47:16.330867",
     "exception": false,
     "start_time": "2024-05-17T05:47:16.317308",
     "status": "completed"
    },
    "tags": []
   },
   "source": [
    "## Step 2: Loading Data"
   ]
  },
  {
   "cell_type": "code",
   "execution_count": 2,
   "id": "9190a310",
   "metadata": {
    "execution": {
     "iopub.execute_input": "2024-05-17T05:47:16.360435Z",
     "iopub.status.busy": "2024-05-17T05:47:16.359928Z",
     "iopub.status.idle": "2024-05-17T05:47:17.878250Z",
     "shell.execute_reply": "2024-05-17T05:47:17.876656Z"
    },
    "papermill": {
     "duration": 1.536437,
     "end_time": "2024-05-17T05:47:17.881144",
     "exception": false,
     "start_time": "2024-05-17T05:47:16.344707",
     "status": "completed"
    },
    "tags": []
   },
   "outputs": [
    {
     "name": "stderr",
     "output_type": "stream",
     "text": [
      "/tmp/ipykernel_18/433442297.py:1: DtypeWarning: Columns (3,4,5) have mixed types. Specify dtype option on import or set low_memory=False.\n",
      "  train_data = pd.read_csv('/kaggle/input/data-storm-5-0/train_kaggle.csv')\n"
     ]
    },
    {
     "data": {
      "text/html": [
       "<div>\n",
       "<style scoped>\n",
       "    .dataframe tbody tr th:only-of-type {\n",
       "        vertical-align: middle;\n",
       "    }\n",
       "\n",
       "    .dataframe tbody tr th {\n",
       "        vertical-align: top;\n",
       "    }\n",
       "\n",
       "    .dataframe thead th {\n",
       "        text-align: right;\n",
       "    }\n",
       "</style>\n",
       "<table border=\"1\" class=\"dataframe\">\n",
       "  <thead>\n",
       "    <tr style=\"text-align: right;\">\n",
       "      <th></th>\n",
       "      <th>Customer_ID</th>\n",
       "      <th>outlet_city</th>\n",
       "      <th>luxury_sales</th>\n",
       "      <th>fresh_sales</th>\n",
       "      <th>dry_sales</th>\n",
       "      <th>cluster_catgeory</th>\n",
       "    </tr>\n",
       "  </thead>\n",
       "  <tbody>\n",
       "    <tr>\n",
       "      <th>0</th>\n",
       "      <td>10493832.0</td>\n",
       "      <td>Kelaniya</td>\n",
       "      <td>1209.6</td>\n",
       "      <td>756.0</td>\n",
       "      <td>5292.0</td>\n",
       "      <td>4</td>\n",
       "    </tr>\n",
       "    <tr>\n",
       "      <th>1</th>\n",
       "      <td>10178643.0</td>\n",
       "      <td>Moratuwa</td>\n",
       "      <td>1590.12</td>\n",
       "      <td>1060.08</td>\n",
       "      <td>6007.12</td>\n",
       "      <td>1</td>\n",
       "    </tr>\n",
       "    <tr>\n",
       "      <th>2</th>\n",
       "      <td>10513916.0</td>\n",
       "      <td>Wattala</td>\n",
       "      <td>2288.88</td>\n",
       "      <td>1481.04</td>\n",
       "      <td>9155.52</td>\n",
       "      <td>4</td>\n",
       "    </tr>\n",
       "    <tr>\n",
       "      <th>3</th>\n",
       "      <td>10334589.0</td>\n",
       "      <td>Wattala</td>\n",
       "      <td>2274.94</td>\n",
       "      <td>1739.66</td>\n",
       "      <td>9099.76</td>\n",
       "      <td>4</td>\n",
       "    </tr>\n",
       "    <tr>\n",
       "      <th>4</th>\n",
       "      <td>10458365.0</td>\n",
       "      <td>Kelaniya</td>\n",
       "      <td>2345.49</td>\n",
       "      <td>2069.55</td>\n",
       "      <td>9243.99</td>\n",
       "      <td>4</td>\n",
       "    </tr>\n",
       "  </tbody>\n",
       "</table>\n",
       "</div>"
      ],
      "text/plain": [
       "   Customer_ID outlet_city luxury_sales fresh_sales dry_sales cluster_catgeory\n",
       "0   10493832.0    Kelaniya       1209.6       756.0    5292.0                4\n",
       "1   10178643.0    Moratuwa      1590.12     1060.08   6007.12                1\n",
       "2   10513916.0     Wattala      2288.88     1481.04   9155.52                4\n",
       "3   10334589.0     Wattala      2274.94     1739.66   9099.76                4\n",
       "4   10458365.0    Kelaniya      2345.49     2069.55   9243.99                4"
      ]
     },
     "execution_count": 2,
     "metadata": {},
     "output_type": "execute_result"
    }
   ],
   "source": [
    "train_data = pd.read_csv('/kaggle/input/data-storm-5-0/train_kaggle.csv')\n",
    "train_data.head()"
   ]
  },
  {
   "cell_type": "markdown",
   "id": "25e94a19",
   "metadata": {
    "papermill": {
     "duration": 0.013985,
     "end_time": "2024-05-17T05:47:17.909368",
     "exception": false,
     "start_time": "2024-05-17T05:47:17.895383",
     "status": "completed"
    },
    "tags": []
   },
   "source": [
    "### Set Customer ID as Index"
   ]
  },
  {
   "cell_type": "code",
   "execution_count": 3,
   "id": "2ab32aa3",
   "metadata": {
    "execution": {
     "iopub.execute_input": "2024-05-17T05:47:17.939950Z",
     "iopub.status.busy": "2024-05-17T05:47:17.939547Z",
     "iopub.status.idle": "2024-05-17T05:47:17.947573Z",
     "shell.execute_reply": "2024-05-17T05:47:17.946424Z"
    },
    "papermill": {
     "duration": 0.026398,
     "end_time": "2024-05-17T05:47:17.949817",
     "exception": false,
     "start_time": "2024-05-17T05:47:17.923419",
     "status": "completed"
    },
    "tags": []
   },
   "outputs": [],
   "source": [
    "train_data.set_index('Customer_ID',inplace=True)\n",
    "train_data.index.name = None"
   ]
  },
  {
   "cell_type": "code",
   "execution_count": 4,
   "id": "8182b635",
   "metadata": {
    "execution": {
     "iopub.execute_input": "2024-05-17T05:47:17.980505Z",
     "iopub.status.busy": "2024-05-17T05:47:17.980148Z",
     "iopub.status.idle": "2024-05-17T05:47:17.992571Z",
     "shell.execute_reply": "2024-05-17T05:47:17.991496Z"
    },
    "papermill": {
     "duration": 0.030618,
     "end_time": "2024-05-17T05:47:17.994689",
     "exception": false,
     "start_time": "2024-05-17T05:47:17.964071",
     "status": "completed"
    },
    "tags": []
   },
   "outputs": [
    {
     "data": {
      "text/html": [
       "<div>\n",
       "<style scoped>\n",
       "    .dataframe tbody tr th:only-of-type {\n",
       "        vertical-align: middle;\n",
       "    }\n",
       "\n",
       "    .dataframe tbody tr th {\n",
       "        vertical-align: top;\n",
       "    }\n",
       "\n",
       "    .dataframe thead th {\n",
       "        text-align: right;\n",
       "    }\n",
       "</style>\n",
       "<table border=\"1\" class=\"dataframe\">\n",
       "  <thead>\n",
       "    <tr style=\"text-align: right;\">\n",
       "      <th></th>\n",
       "      <th>outlet_city</th>\n",
       "      <th>luxury_sales</th>\n",
       "      <th>fresh_sales</th>\n",
       "      <th>dry_sales</th>\n",
       "      <th>cluster_catgeory</th>\n",
       "    </tr>\n",
       "  </thead>\n",
       "  <tbody>\n",
       "    <tr>\n",
       "      <th>10493832.0</th>\n",
       "      <td>Kelaniya</td>\n",
       "      <td>1209.6</td>\n",
       "      <td>756.0</td>\n",
       "      <td>5292.0</td>\n",
       "      <td>4</td>\n",
       "    </tr>\n",
       "    <tr>\n",
       "      <th>10178643.0</th>\n",
       "      <td>Moratuwa</td>\n",
       "      <td>1590.12</td>\n",
       "      <td>1060.08</td>\n",
       "      <td>6007.12</td>\n",
       "      <td>1</td>\n",
       "    </tr>\n",
       "    <tr>\n",
       "      <th>10513916.0</th>\n",
       "      <td>Wattala</td>\n",
       "      <td>2288.88</td>\n",
       "      <td>1481.04</td>\n",
       "      <td>9155.52</td>\n",
       "      <td>4</td>\n",
       "    </tr>\n",
       "    <tr>\n",
       "      <th>10334589.0</th>\n",
       "      <td>Wattala</td>\n",
       "      <td>2274.94</td>\n",
       "      <td>1739.66</td>\n",
       "      <td>9099.76</td>\n",
       "      <td>4</td>\n",
       "    </tr>\n",
       "    <tr>\n",
       "      <th>10458365.0</th>\n",
       "      <td>Kelaniya</td>\n",
       "      <td>2345.49</td>\n",
       "      <td>2069.55</td>\n",
       "      <td>9243.99</td>\n",
       "      <td>4</td>\n",
       "    </tr>\n",
       "  </tbody>\n",
       "</table>\n",
       "</div>"
      ],
      "text/plain": [
       "           outlet_city luxury_sales fresh_sales dry_sales cluster_catgeory\n",
       "10493832.0    Kelaniya       1209.6       756.0    5292.0                4\n",
       "10178643.0    Moratuwa      1590.12     1060.08   6007.12                1\n",
       "10513916.0     Wattala      2288.88     1481.04   9155.52                4\n",
       "10334589.0     Wattala      2274.94     1739.66   9099.76                4\n",
       "10458365.0    Kelaniya      2345.49     2069.55   9243.99                4"
      ]
     },
     "execution_count": 4,
     "metadata": {},
     "output_type": "execute_result"
    }
   ],
   "source": [
    "train_data.head()"
   ]
  },
  {
   "cell_type": "markdown",
   "id": "aeab7578",
   "metadata": {
    "papermill": {
     "duration": 0.013906,
     "end_time": "2024-05-17T05:47:18.022907",
     "exception": false,
     "start_time": "2024-05-17T05:47:18.009001",
     "status": "completed"
    },
    "tags": []
   },
   "source": [
    "## Step 3: Preprocessing Data"
   ]
  },
  {
   "cell_type": "code",
   "execution_count": 5,
   "id": "6f4497eb",
   "metadata": {
    "execution": {
     "iopub.execute_input": "2024-05-17T05:47:18.052815Z",
     "iopub.status.busy": "2024-05-17T05:47:18.052415Z",
     "iopub.status.idle": "2024-05-17T05:47:18.060251Z",
     "shell.execute_reply": "2024-05-17T05:47:18.059218Z"
    },
    "papermill": {
     "duration": 0.025586,
     "end_time": "2024-05-17T05:47:18.062645",
     "exception": false,
     "start_time": "2024-05-17T05:47:18.037059",
     "status": "completed"
    },
    "tags": []
   },
   "outputs": [
    {
     "data": {
      "text/plain": [
       "outlet_city         object\n",
       "luxury_sales        object\n",
       "fresh_sales         object\n",
       "dry_sales           object\n",
       "cluster_catgeory    object\n",
       "dtype: object"
      ]
     },
     "execution_count": 5,
     "metadata": {},
     "output_type": "execute_result"
    }
   ],
   "source": [
    "train_data.dtypes"
   ]
  },
  {
   "cell_type": "markdown",
   "id": "b3f287a4",
   "metadata": {
    "papermill": {
     "duration": 0.014778,
     "end_time": "2024-05-17T05:47:18.092005",
     "exception": false,
     "start_time": "2024-05-17T05:47:18.077227",
     "status": "completed"
    },
    "tags": []
   },
   "source": [
    "#### Change the numeric data types"
   ]
  },
  {
   "cell_type": "code",
   "execution_count": 6,
   "id": "59958bfb",
   "metadata": {
    "execution": {
     "iopub.execute_input": "2024-05-17T05:47:18.123516Z",
     "iopub.status.busy": "2024-05-17T05:47:18.123123Z",
     "iopub.status.idle": "2024-05-17T05:47:19.082731Z",
     "shell.execute_reply": "2024-05-17T05:47:19.081655Z"
    },
    "papermill": {
     "duration": 0.978241,
     "end_time": "2024-05-17T05:47:19.085168",
     "exception": false,
     "start_time": "2024-05-17T05:47:18.106927",
     "status": "completed"
    },
    "tags": []
   },
   "outputs": [],
   "source": [
    "train_data['luxury_sales'] = pd.to_numeric(train_data['luxury_sales'], errors='coerce')\n",
    "train_data['fresh_sales'] = pd.to_numeric(train_data['fresh_sales'], errors='coerce')\n",
    "train_data['dry_sales'] = pd.to_numeric(train_data['dry_sales'], errors='coerce')\n",
    "train_data['cluster_catgeory'] = pd.to_numeric(train_data['cluster_catgeory'], errors='coerce')"
   ]
  },
  {
   "cell_type": "code",
   "execution_count": 7,
   "id": "5dddfb7b",
   "metadata": {
    "execution": {
     "iopub.execute_input": "2024-05-17T05:47:19.116925Z",
     "iopub.status.busy": "2024-05-17T05:47:19.116513Z",
     "iopub.status.idle": "2024-05-17T05:47:19.123717Z",
     "shell.execute_reply": "2024-05-17T05:47:19.122738Z"
    },
    "papermill": {
     "duration": 0.025918,
     "end_time": "2024-05-17T05:47:19.126079",
     "exception": false,
     "start_time": "2024-05-17T05:47:19.100161",
     "status": "completed"
    },
    "tags": []
   },
   "outputs": [
    {
     "data": {
      "text/plain": [
       "outlet_city          object\n",
       "luxury_sales        float64\n",
       "fresh_sales         float64\n",
       "dry_sales           float64\n",
       "cluster_catgeory    float64\n",
       "dtype: object"
      ]
     },
     "execution_count": 7,
     "metadata": {},
     "output_type": "execute_result"
    }
   ],
   "source": [
    "train_data.dtypes"
   ]
  },
  {
   "cell_type": "markdown",
   "id": "8de0d0a7",
   "metadata": {
    "papermill": {
     "duration": 0.014279,
     "end_time": "2024-05-17T05:47:19.154977",
     "exception": false,
     "start_time": "2024-05-17T05:47:19.140698",
     "status": "completed"
    },
    "tags": []
   },
   "source": [
    "### Dealing with missing values"
   ]
  },
  {
   "cell_type": "code",
   "execution_count": 8,
   "id": "da2a62a4",
   "metadata": {
    "execution": {
     "iopub.execute_input": "2024-05-17T05:47:19.186227Z",
     "iopub.status.busy": "2024-05-17T05:47:19.185230Z",
     "iopub.status.idle": "2024-05-17T05:47:19.235251Z",
     "shell.execute_reply": "2024-05-17T05:47:19.234120Z"
    },
    "papermill": {
     "duration": 0.068042,
     "end_time": "2024-05-17T05:47:19.237517",
     "exception": false,
     "start_time": "2024-05-17T05:47:19.169475",
     "status": "completed"
    },
    "tags": []
   },
   "outputs": [
    {
     "data": {
      "text/plain": [
       "outlet_city          2\n",
       "luxury_sales        45\n",
       "fresh_sales         50\n",
       "dry_sales           38\n",
       "cluster_catgeory     2\n",
       "dtype: int64"
      ]
     },
     "execution_count": 8,
     "metadata": {},
     "output_type": "execute_result"
    }
   ],
   "source": [
    "train_data.isnull().sum()"
   ]
  },
  {
   "cell_type": "code",
   "execution_count": 9,
   "id": "48907c53",
   "metadata": {
    "execution": {
     "iopub.execute_input": "2024-05-17T05:47:19.272204Z",
     "iopub.status.busy": "2024-05-17T05:47:19.271215Z",
     "iopub.status.idle": "2024-05-17T05:47:19.277633Z",
     "shell.execute_reply": "2024-05-17T05:47:19.276762Z"
    },
    "papermill": {
     "duration": 0.026412,
     "end_time": "2024-05-17T05:47:19.279467",
     "exception": false,
     "start_time": "2024-05-17T05:47:19.253055",
     "status": "completed"
    },
    "tags": []
   },
   "outputs": [
    {
     "data": {
      "text/plain": [
       "(774155, 5)"
      ]
     },
     "execution_count": 9,
     "metadata": {},
     "output_type": "execute_result"
    }
   ],
   "source": [
    "train_data.shape"
   ]
  },
  {
   "cell_type": "markdown",
   "id": "af7c9ad1",
   "metadata": {
    "papermill": {
     "duration": 0.014516,
     "end_time": "2024-05-17T05:47:19.308580",
     "exception": false,
     "start_time": "2024-05-17T05:47:19.294064",
     "status": "completed"
    },
    "tags": []
   },
   "source": [
    "#### Since shape is too large comparing to missing values, we can drop those"
   ]
  },
  {
   "cell_type": "code",
   "execution_count": 10,
   "id": "06d5ae1e",
   "metadata": {
    "execution": {
     "iopub.execute_input": "2024-05-17T05:47:19.340247Z",
     "iopub.status.busy": "2024-05-17T05:47:19.339368Z",
     "iopub.status.idle": "2024-05-17T05:47:19.433169Z",
     "shell.execute_reply": "2024-05-17T05:47:19.431919Z"
    },
    "papermill": {
     "duration": 0.112361,
     "end_time": "2024-05-17T05:47:19.435733",
     "exception": false,
     "start_time": "2024-05-17T05:47:19.323372",
     "status": "completed"
    },
    "tags": []
   },
   "outputs": [],
   "source": [
    "train_data.dropna(inplace=True)"
   ]
  },
  {
   "cell_type": "code",
   "execution_count": 11,
   "id": "f2c3a650",
   "metadata": {
    "execution": {
     "iopub.execute_input": "2024-05-17T05:47:19.467565Z",
     "iopub.status.busy": "2024-05-17T05:47:19.466462Z",
     "iopub.status.idle": "2024-05-17T05:47:19.473203Z",
     "shell.execute_reply": "2024-05-17T05:47:19.472306Z"
    },
    "papermill": {
     "duration": 0.024666,
     "end_time": "2024-05-17T05:47:19.475136",
     "exception": false,
     "start_time": "2024-05-17T05:47:19.450470",
     "status": "completed"
    },
    "tags": []
   },
   "outputs": [
    {
     "data": {
      "text/plain": [
       "(774040, 5)"
      ]
     },
     "execution_count": 11,
     "metadata": {},
     "output_type": "execute_result"
    }
   ],
   "source": [
    "train_data.shape"
   ]
  },
  {
   "cell_type": "markdown",
   "id": "9b432b25",
   "metadata": {
    "papermill": {
     "duration": 0.014672,
     "end_time": "2024-05-17T05:47:19.504612",
     "exception": false,
     "start_time": "2024-05-17T05:47:19.489940",
     "status": "completed"
    },
    "tags": []
   },
   "source": [
    "#### Drop duplicates as well"
   ]
  },
  {
   "cell_type": "code",
   "execution_count": 12,
   "id": "d48cc8a0",
   "metadata": {
    "execution": {
     "iopub.execute_input": "2024-05-17T05:47:19.537298Z",
     "iopub.status.busy": "2024-05-17T05:47:19.536936Z",
     "iopub.status.idle": "2024-05-17T05:47:19.857140Z",
     "shell.execute_reply": "2024-05-17T05:47:19.855968Z"
    },
    "papermill": {
     "duration": 0.340403,
     "end_time": "2024-05-17T05:47:19.859851",
     "exception": false,
     "start_time": "2024-05-17T05:47:19.519448",
     "status": "completed"
    },
    "tags": []
   },
   "outputs": [],
   "source": [
    "train_data.drop_duplicates(inplace=True)"
   ]
  },
  {
   "cell_type": "code",
   "execution_count": 13,
   "id": "b4505c9e",
   "metadata": {
    "execution": {
     "iopub.execute_input": "2024-05-17T05:47:19.949032Z",
     "iopub.status.busy": "2024-05-17T05:47:19.948632Z",
     "iopub.status.idle": "2024-05-17T05:47:19.954865Z",
     "shell.execute_reply": "2024-05-17T05:47:19.954103Z"
    },
    "papermill": {
     "duration": 0.081471,
     "end_time": "2024-05-17T05:47:19.956894",
     "exception": false,
     "start_time": "2024-05-17T05:47:19.875423",
     "status": "completed"
    },
    "tags": []
   },
   "outputs": [
    {
     "data": {
      "text/plain": [
       "(771100, 5)"
      ]
     },
     "execution_count": 13,
     "metadata": {},
     "output_type": "execute_result"
    }
   ],
   "source": [
    "train_data.shape"
   ]
  },
  {
   "cell_type": "code",
   "execution_count": 14,
   "id": "639ad1ff",
   "metadata": {
    "execution": {
     "iopub.execute_input": "2024-05-17T05:47:20.000470Z",
     "iopub.status.busy": "2024-05-17T05:47:19.999498Z",
     "iopub.status.idle": "2024-05-17T05:47:20.072629Z",
     "shell.execute_reply": "2024-05-17T05:47:20.071464Z"
    },
    "papermill": {
     "duration": 0.099185,
     "end_time": "2024-05-17T05:47:20.074913",
     "exception": false,
     "start_time": "2024-05-17T05:47:19.975728",
     "status": "completed"
    },
    "tags": []
   },
   "outputs": [
    {
     "data": {
      "text/plain": [
       "outlet_city\n",
       "Batticaloa                40866\n",
       "Colombo                   40889\n",
       "Dehiwala-Mount Lavinia    36676\n",
       "Galle                     40885\n",
       "Gampaha                   40116\n",
       "Homagama                  36479\n",
       "Jaffna                    40548\n",
       "Kaduwela                  36502\n",
       "Kalmunai                  40590\n",
       "Kandy                     40393\n",
       "Katunayake                40519\n",
       "Kelaniya                  35818\n",
       "Kotte                     36633\n",
       "Moratuwa                  36248\n",
       "Negombo                   40558\n",
       "Nuwara Eliya              36926\n",
       "Panadura                  36552\n",
       "Peliyagoda                36986\n",
       "Trincomalee               40398\n",
       "Wattala                   36518\n",
       "Name: count, dtype: int64"
      ]
     },
     "execution_count": 14,
     "metadata": {},
     "output_type": "execute_result"
    }
   ],
   "source": [
    "train_data['outlet_city'].value_counts().sort_index()"
   ]
  },
  {
   "cell_type": "markdown",
   "id": "1072d455",
   "metadata": {
    "papermill": {
     "duration": 0.014994,
     "end_time": "2024-05-17T05:47:20.105452",
     "exception": false,
     "start_time": "2024-05-17T05:47:20.090458",
     "status": "completed"
    },
    "tags": []
   },
   "source": [
    "### Remove outlier classes "
   ]
  },
  {
   "cell_type": "code",
   "execution_count": 15,
   "id": "69d18ed9",
   "metadata": {
    "execution": {
     "iopub.execute_input": "2024-05-17T05:47:20.138120Z",
     "iopub.status.busy": "2024-05-17T05:47:20.137308Z",
     "iopub.status.idle": "2024-05-17T05:47:20.160095Z",
     "shell.execute_reply": "2024-05-17T05:47:20.159231Z"
    },
    "papermill": {
     "duration": 0.041517,
     "end_time": "2024-05-17T05:47:20.162179",
     "exception": false,
     "start_time": "2024-05-17T05:47:20.120662",
     "status": "completed"
    },
    "tags": []
   },
   "outputs": [
    {
     "data": {
      "text/plain": [
       "cluster_catgeory\n",
       "1.0      188297\n",
       "4.0      171485\n",
       "6.0      168624\n",
       "2.0      154355\n",
       "3.0       48842\n",
       "5.0       39492\n",
       "99.0          1\n",
       "95.0          1\n",
       "98.0          1\n",
       "100.0         1\n",
       "89.0          1\n",
       "Name: count, dtype: int64"
      ]
     },
     "execution_count": 15,
     "metadata": {},
     "output_type": "execute_result"
    }
   ],
   "source": [
    "train_data['cluster_catgeory'].value_counts()"
   ]
  },
  {
   "cell_type": "code",
   "execution_count": 16,
   "id": "9b2eea57",
   "metadata": {
    "execution": {
     "iopub.execute_input": "2024-05-17T05:47:20.194998Z",
     "iopub.status.busy": "2024-05-17T05:47:20.194034Z",
     "iopub.status.idle": "2024-05-17T05:47:21.264866Z",
     "shell.execute_reply": "2024-05-17T05:47:21.263698Z"
    },
    "papermill": {
     "duration": 1.090045,
     "end_time": "2024-05-17T05:47:21.267546",
     "exception": false,
     "start_time": "2024-05-17T05:47:20.177501",
     "status": "completed"
    },
    "tags": []
   },
   "outputs": [],
   "source": [
    "train_data.drop(train_data[train_data['cluster_catgeory']==99.0].index,inplace=True)\n",
    "train_data.drop(train_data[train_data['cluster_catgeory']==95.0].index,inplace=True)\n",
    "train_data.drop(train_data[train_data['cluster_catgeory']==98.0].index,inplace=True)\n",
    "train_data.drop(train_data[train_data['cluster_catgeory']==100.0].index,inplace=True)\n",
    "train_data.drop(train_data[train_data['cluster_catgeory']==89.0].index,inplace=True)"
   ]
  },
  {
   "cell_type": "code",
   "execution_count": 17,
   "id": "d13f5ef2",
   "metadata": {
    "execution": {
     "iopub.execute_input": "2024-05-17T05:47:21.300975Z",
     "iopub.status.busy": "2024-05-17T05:47:21.300575Z",
     "iopub.status.idle": "2024-05-17T05:47:21.323005Z",
     "shell.execute_reply": "2024-05-17T05:47:21.321831Z"
    },
    "papermill": {
     "duration": 0.042518,
     "end_time": "2024-05-17T05:47:21.325438",
     "exception": false,
     "start_time": "2024-05-17T05:47:21.282920",
     "status": "completed"
    },
    "tags": []
   },
   "outputs": [
    {
     "data": {
      "text/plain": [
       "cluster_catgeory\n",
       "1.0    188297\n",
       "2.0    154355\n",
       "3.0     48842\n",
       "4.0    171485\n",
       "5.0     39492\n",
       "6.0    168624\n",
       "Name: count, dtype: int64"
      ]
     },
     "execution_count": 17,
     "metadata": {},
     "output_type": "execute_result"
    }
   ],
   "source": [
    "train_data['cluster_catgeory'].value_counts().sort_index()"
   ]
  },
  {
   "cell_type": "markdown",
   "id": "8a80cb31",
   "metadata": {
    "papermill": {
     "duration": 0.015104,
     "end_time": "2024-05-17T05:47:21.356187",
     "exception": false,
     "start_time": "2024-05-17T05:47:21.341083",
     "status": "completed"
    },
    "tags": []
   },
   "source": [
    "## Step 4: Feature Engineering"
   ]
  },
  {
   "cell_type": "markdown",
   "id": "d3ee4655",
   "metadata": {
    "papermill": {
     "duration": 0.015074,
     "end_time": "2024-05-17T05:47:21.386742",
     "exception": false,
     "start_time": "2024-05-17T05:47:21.371668",
     "status": "completed"
    },
    "tags": []
   },
   "source": [
    "### Handle categorical variables"
   ]
  },
  {
   "cell_type": "code",
   "execution_count": 18,
   "id": "4a9605e6",
   "metadata": {
    "execution": {
     "iopub.execute_input": "2024-05-17T05:47:21.419178Z",
     "iopub.status.busy": "2024-05-17T05:47:21.418773Z",
     "iopub.status.idle": "2024-05-17T05:47:21.557348Z",
     "shell.execute_reply": "2024-05-17T05:47:21.556162Z"
    },
    "papermill": {
     "duration": 0.15754,
     "end_time": "2024-05-17T05:47:21.559704",
     "exception": false,
     "start_time": "2024-05-17T05:47:21.402164",
     "status": "completed"
    },
    "tags": []
   },
   "outputs": [
    {
     "data": {
      "text/html": [
       "<div>\n",
       "<style scoped>\n",
       "    .dataframe tbody tr th:only-of-type {\n",
       "        vertical-align: middle;\n",
       "    }\n",
       "\n",
       "    .dataframe tbody tr th {\n",
       "        vertical-align: top;\n",
       "    }\n",
       "\n",
       "    .dataframe thead th {\n",
       "        text-align: right;\n",
       "    }\n",
       "</style>\n",
       "<table border=\"1\" class=\"dataframe\">\n",
       "  <thead>\n",
       "    <tr style=\"text-align: right;\">\n",
       "      <th></th>\n",
       "      <th>luxury_sales</th>\n",
       "      <th>fresh_sales</th>\n",
       "      <th>dry_sales</th>\n",
       "      <th>cluster_catgeory</th>\n",
       "      <th>outlet_city_Batticaloa</th>\n",
       "      <th>outlet_city_Colombo</th>\n",
       "      <th>outlet_city_Dehiwala-Mount Lavinia</th>\n",
       "      <th>outlet_city_Galle</th>\n",
       "      <th>outlet_city_Gampaha</th>\n",
       "      <th>outlet_city_Homagama</th>\n",
       "      <th>...</th>\n",
       "      <th>outlet_city_Katunayake</th>\n",
       "      <th>outlet_city_Kelaniya</th>\n",
       "      <th>outlet_city_Kotte</th>\n",
       "      <th>outlet_city_Moratuwa</th>\n",
       "      <th>outlet_city_Negombo</th>\n",
       "      <th>outlet_city_Nuwara Eliya</th>\n",
       "      <th>outlet_city_Panadura</th>\n",
       "      <th>outlet_city_Peliyagoda</th>\n",
       "      <th>outlet_city_Trincomalee</th>\n",
       "      <th>outlet_city_Wattala</th>\n",
       "    </tr>\n",
       "  </thead>\n",
       "  <tbody>\n",
       "    <tr>\n",
       "      <th>10493832.0</th>\n",
       "      <td>1209.60</td>\n",
       "      <td>756.00</td>\n",
       "      <td>5292.00</td>\n",
       "      <td>4.0</td>\n",
       "      <td>False</td>\n",
       "      <td>False</td>\n",
       "      <td>False</td>\n",
       "      <td>False</td>\n",
       "      <td>False</td>\n",
       "      <td>False</td>\n",
       "      <td>...</td>\n",
       "      <td>False</td>\n",
       "      <td>True</td>\n",
       "      <td>False</td>\n",
       "      <td>False</td>\n",
       "      <td>False</td>\n",
       "      <td>False</td>\n",
       "      <td>False</td>\n",
       "      <td>False</td>\n",
       "      <td>False</td>\n",
       "      <td>False</td>\n",
       "    </tr>\n",
       "    <tr>\n",
       "      <th>10178643.0</th>\n",
       "      <td>1590.12</td>\n",
       "      <td>1060.08</td>\n",
       "      <td>6007.12</td>\n",
       "      <td>1.0</td>\n",
       "      <td>False</td>\n",
       "      <td>False</td>\n",
       "      <td>False</td>\n",
       "      <td>False</td>\n",
       "      <td>False</td>\n",
       "      <td>False</td>\n",
       "      <td>...</td>\n",
       "      <td>False</td>\n",
       "      <td>False</td>\n",
       "      <td>False</td>\n",
       "      <td>True</td>\n",
       "      <td>False</td>\n",
       "      <td>False</td>\n",
       "      <td>False</td>\n",
       "      <td>False</td>\n",
       "      <td>False</td>\n",
       "      <td>False</td>\n",
       "    </tr>\n",
       "    <tr>\n",
       "      <th>10513916.0</th>\n",
       "      <td>2288.88</td>\n",
       "      <td>1481.04</td>\n",
       "      <td>9155.52</td>\n",
       "      <td>4.0</td>\n",
       "      <td>False</td>\n",
       "      <td>False</td>\n",
       "      <td>False</td>\n",
       "      <td>False</td>\n",
       "      <td>False</td>\n",
       "      <td>False</td>\n",
       "      <td>...</td>\n",
       "      <td>False</td>\n",
       "      <td>False</td>\n",
       "      <td>False</td>\n",
       "      <td>False</td>\n",
       "      <td>False</td>\n",
       "      <td>False</td>\n",
       "      <td>False</td>\n",
       "      <td>False</td>\n",
       "      <td>False</td>\n",
       "      <td>True</td>\n",
       "    </tr>\n",
       "    <tr>\n",
       "      <th>10334589.0</th>\n",
       "      <td>2274.94</td>\n",
       "      <td>1739.66</td>\n",
       "      <td>9099.76</td>\n",
       "      <td>4.0</td>\n",
       "      <td>False</td>\n",
       "      <td>False</td>\n",
       "      <td>False</td>\n",
       "      <td>False</td>\n",
       "      <td>False</td>\n",
       "      <td>False</td>\n",
       "      <td>...</td>\n",
       "      <td>False</td>\n",
       "      <td>False</td>\n",
       "      <td>False</td>\n",
       "      <td>False</td>\n",
       "      <td>False</td>\n",
       "      <td>False</td>\n",
       "      <td>False</td>\n",
       "      <td>False</td>\n",
       "      <td>False</td>\n",
       "      <td>True</td>\n",
       "    </tr>\n",
       "    <tr>\n",
       "      <th>10458365.0</th>\n",
       "      <td>2345.49</td>\n",
       "      <td>2069.55</td>\n",
       "      <td>9243.99</td>\n",
       "      <td>4.0</td>\n",
       "      <td>False</td>\n",
       "      <td>False</td>\n",
       "      <td>False</td>\n",
       "      <td>False</td>\n",
       "      <td>False</td>\n",
       "      <td>False</td>\n",
       "      <td>...</td>\n",
       "      <td>False</td>\n",
       "      <td>True</td>\n",
       "      <td>False</td>\n",
       "      <td>False</td>\n",
       "      <td>False</td>\n",
       "      <td>False</td>\n",
       "      <td>False</td>\n",
       "      <td>False</td>\n",
       "      <td>False</td>\n",
       "      <td>False</td>\n",
       "    </tr>\n",
       "  </tbody>\n",
       "</table>\n",
       "<p>5 rows × 24 columns</p>\n",
       "</div>"
      ],
      "text/plain": [
       "            luxury_sales  fresh_sales  dry_sales  cluster_catgeory  \\\n",
       "10493832.0       1209.60       756.00    5292.00               4.0   \n",
       "10178643.0       1590.12      1060.08    6007.12               1.0   \n",
       "10513916.0       2288.88      1481.04    9155.52               4.0   \n",
       "10334589.0       2274.94      1739.66    9099.76               4.0   \n",
       "10458365.0       2345.49      2069.55    9243.99               4.0   \n",
       "\n",
       "            outlet_city_Batticaloa  outlet_city_Colombo  \\\n",
       "10493832.0                   False                False   \n",
       "10178643.0                   False                False   \n",
       "10513916.0                   False                False   \n",
       "10334589.0                   False                False   \n",
       "10458365.0                   False                False   \n",
       "\n",
       "            outlet_city_Dehiwala-Mount Lavinia  outlet_city_Galle  \\\n",
       "10493832.0                               False              False   \n",
       "10178643.0                               False              False   \n",
       "10513916.0                               False              False   \n",
       "10334589.0                               False              False   \n",
       "10458365.0                               False              False   \n",
       "\n",
       "            outlet_city_Gampaha  outlet_city_Homagama  ...  \\\n",
       "10493832.0                False                 False  ...   \n",
       "10178643.0                False                 False  ...   \n",
       "10513916.0                False                 False  ...   \n",
       "10334589.0                False                 False  ...   \n",
       "10458365.0                False                 False  ...   \n",
       "\n",
       "            outlet_city_Katunayake  outlet_city_Kelaniya  outlet_city_Kotte  \\\n",
       "10493832.0                   False                  True              False   \n",
       "10178643.0                   False                 False              False   \n",
       "10513916.0                   False                 False              False   \n",
       "10334589.0                   False                 False              False   \n",
       "10458365.0                   False                  True              False   \n",
       "\n",
       "            outlet_city_Moratuwa  outlet_city_Negombo  \\\n",
       "10493832.0                 False                False   \n",
       "10178643.0                  True                False   \n",
       "10513916.0                 False                False   \n",
       "10334589.0                 False                False   \n",
       "10458365.0                 False                False   \n",
       "\n",
       "            outlet_city_Nuwara Eliya  outlet_city_Panadura  \\\n",
       "10493832.0                     False                 False   \n",
       "10178643.0                     False                 False   \n",
       "10513916.0                     False                 False   \n",
       "10334589.0                     False                 False   \n",
       "10458365.0                     False                 False   \n",
       "\n",
       "            outlet_city_Peliyagoda  outlet_city_Trincomalee  \\\n",
       "10493832.0                   False                    False   \n",
       "10178643.0                   False                    False   \n",
       "10513916.0                   False                    False   \n",
       "10334589.0                   False                    False   \n",
       "10458365.0                   False                    False   \n",
       "\n",
       "            outlet_city_Wattala  \n",
       "10493832.0                False  \n",
       "10178643.0                False  \n",
       "10513916.0                 True  \n",
       "10334589.0                 True  \n",
       "10458365.0                False  \n",
       "\n",
       "[5 rows x 24 columns]"
      ]
     },
     "execution_count": 18,
     "metadata": {},
     "output_type": "execute_result"
    }
   ],
   "source": [
    "train_data_f = pd.get_dummies(train_data)\n",
    "train_data_f.head()"
   ]
  },
  {
   "cell_type": "code",
   "execution_count": 19,
   "id": "0d4b4df5",
   "metadata": {
    "execution": {
     "iopub.execute_input": "2024-05-17T05:47:21.595066Z",
     "iopub.status.busy": "2024-05-17T05:47:21.594671Z",
     "iopub.status.idle": "2024-05-17T05:47:21.673824Z",
     "shell.execute_reply": "2024-05-17T05:47:21.672804Z"
    },
    "papermill": {
     "duration": 0.10008,
     "end_time": "2024-05-17T05:47:21.676084",
     "exception": false,
     "start_time": "2024-05-17T05:47:21.576004",
     "status": "completed"
    },
    "tags": []
   },
   "outputs": [
    {
     "data": {
      "text/html": [
       "<div>\n",
       "<style scoped>\n",
       "    .dataframe tbody tr th:only-of-type {\n",
       "        vertical-align: middle;\n",
       "    }\n",
       "\n",
       "    .dataframe tbody tr th {\n",
       "        vertical-align: top;\n",
       "    }\n",
       "\n",
       "    .dataframe thead th {\n",
       "        text-align: right;\n",
       "    }\n",
       "</style>\n",
       "<table border=\"1\" class=\"dataframe\">\n",
       "  <thead>\n",
       "    <tr style=\"text-align: right;\">\n",
       "      <th></th>\n",
       "      <th>luxury_sales</th>\n",
       "      <th>fresh_sales</th>\n",
       "      <th>dry_sales</th>\n",
       "      <th>cluster_catgeory</th>\n",
       "      <th>outlet_city_Batticaloa</th>\n",
       "      <th>outlet_city_Colombo</th>\n",
       "      <th>outlet_city_Dehiwala-Mount Lavinia</th>\n",
       "      <th>outlet_city_Galle</th>\n",
       "      <th>outlet_city_Gampaha</th>\n",
       "      <th>outlet_city_Homagama</th>\n",
       "      <th>...</th>\n",
       "      <th>outlet_city_Katunayake</th>\n",
       "      <th>outlet_city_Kelaniya</th>\n",
       "      <th>outlet_city_Kotte</th>\n",
       "      <th>outlet_city_Moratuwa</th>\n",
       "      <th>outlet_city_Negombo</th>\n",
       "      <th>outlet_city_Nuwara Eliya</th>\n",
       "      <th>outlet_city_Panadura</th>\n",
       "      <th>outlet_city_Peliyagoda</th>\n",
       "      <th>outlet_city_Trincomalee</th>\n",
       "      <th>outlet_city_Wattala</th>\n",
       "    </tr>\n",
       "  </thead>\n",
       "  <tbody>\n",
       "    <tr>\n",
       "      <th>10493832.0</th>\n",
       "      <td>1209.60</td>\n",
       "      <td>756.00</td>\n",
       "      <td>5292.00</td>\n",
       "      <td>4.0</td>\n",
       "      <td>0.0</td>\n",
       "      <td>0.0</td>\n",
       "      <td>0.0</td>\n",
       "      <td>0.0</td>\n",
       "      <td>0.0</td>\n",
       "      <td>0.0</td>\n",
       "      <td>...</td>\n",
       "      <td>0.0</td>\n",
       "      <td>1.0</td>\n",
       "      <td>0.0</td>\n",
       "      <td>0.0</td>\n",
       "      <td>0.0</td>\n",
       "      <td>0.0</td>\n",
       "      <td>0.0</td>\n",
       "      <td>0.0</td>\n",
       "      <td>0.0</td>\n",
       "      <td>0.0</td>\n",
       "    </tr>\n",
       "    <tr>\n",
       "      <th>10178643.0</th>\n",
       "      <td>1590.12</td>\n",
       "      <td>1060.08</td>\n",
       "      <td>6007.12</td>\n",
       "      <td>1.0</td>\n",
       "      <td>0.0</td>\n",
       "      <td>0.0</td>\n",
       "      <td>0.0</td>\n",
       "      <td>0.0</td>\n",
       "      <td>0.0</td>\n",
       "      <td>0.0</td>\n",
       "      <td>...</td>\n",
       "      <td>0.0</td>\n",
       "      <td>0.0</td>\n",
       "      <td>0.0</td>\n",
       "      <td>1.0</td>\n",
       "      <td>0.0</td>\n",
       "      <td>0.0</td>\n",
       "      <td>0.0</td>\n",
       "      <td>0.0</td>\n",
       "      <td>0.0</td>\n",
       "      <td>0.0</td>\n",
       "    </tr>\n",
       "    <tr>\n",
       "      <th>10513916.0</th>\n",
       "      <td>2288.88</td>\n",
       "      <td>1481.04</td>\n",
       "      <td>9155.52</td>\n",
       "      <td>4.0</td>\n",
       "      <td>0.0</td>\n",
       "      <td>0.0</td>\n",
       "      <td>0.0</td>\n",
       "      <td>0.0</td>\n",
       "      <td>0.0</td>\n",
       "      <td>0.0</td>\n",
       "      <td>...</td>\n",
       "      <td>0.0</td>\n",
       "      <td>0.0</td>\n",
       "      <td>0.0</td>\n",
       "      <td>0.0</td>\n",
       "      <td>0.0</td>\n",
       "      <td>0.0</td>\n",
       "      <td>0.0</td>\n",
       "      <td>0.0</td>\n",
       "      <td>0.0</td>\n",
       "      <td>1.0</td>\n",
       "    </tr>\n",
       "    <tr>\n",
       "      <th>10334589.0</th>\n",
       "      <td>2274.94</td>\n",
       "      <td>1739.66</td>\n",
       "      <td>9099.76</td>\n",
       "      <td>4.0</td>\n",
       "      <td>0.0</td>\n",
       "      <td>0.0</td>\n",
       "      <td>0.0</td>\n",
       "      <td>0.0</td>\n",
       "      <td>0.0</td>\n",
       "      <td>0.0</td>\n",
       "      <td>...</td>\n",
       "      <td>0.0</td>\n",
       "      <td>0.0</td>\n",
       "      <td>0.0</td>\n",
       "      <td>0.0</td>\n",
       "      <td>0.0</td>\n",
       "      <td>0.0</td>\n",
       "      <td>0.0</td>\n",
       "      <td>0.0</td>\n",
       "      <td>0.0</td>\n",
       "      <td>1.0</td>\n",
       "    </tr>\n",
       "    <tr>\n",
       "      <th>10458365.0</th>\n",
       "      <td>2345.49</td>\n",
       "      <td>2069.55</td>\n",
       "      <td>9243.99</td>\n",
       "      <td>4.0</td>\n",
       "      <td>0.0</td>\n",
       "      <td>0.0</td>\n",
       "      <td>0.0</td>\n",
       "      <td>0.0</td>\n",
       "      <td>0.0</td>\n",
       "      <td>0.0</td>\n",
       "      <td>...</td>\n",
       "      <td>0.0</td>\n",
       "      <td>1.0</td>\n",
       "      <td>0.0</td>\n",
       "      <td>0.0</td>\n",
       "      <td>0.0</td>\n",
       "      <td>0.0</td>\n",
       "      <td>0.0</td>\n",
       "      <td>0.0</td>\n",
       "      <td>0.0</td>\n",
       "      <td>0.0</td>\n",
       "    </tr>\n",
       "  </tbody>\n",
       "</table>\n",
       "<p>5 rows × 24 columns</p>\n",
       "</div>"
      ],
      "text/plain": [
       "            luxury_sales  fresh_sales  dry_sales  cluster_catgeory  \\\n",
       "10493832.0       1209.60       756.00    5292.00               4.0   \n",
       "10178643.0       1590.12      1060.08    6007.12               1.0   \n",
       "10513916.0       2288.88      1481.04    9155.52               4.0   \n",
       "10334589.0       2274.94      1739.66    9099.76               4.0   \n",
       "10458365.0       2345.49      2069.55    9243.99               4.0   \n",
       "\n",
       "            outlet_city_Batticaloa  outlet_city_Colombo  \\\n",
       "10493832.0                     0.0                  0.0   \n",
       "10178643.0                     0.0                  0.0   \n",
       "10513916.0                     0.0                  0.0   \n",
       "10334589.0                     0.0                  0.0   \n",
       "10458365.0                     0.0                  0.0   \n",
       "\n",
       "            outlet_city_Dehiwala-Mount Lavinia  outlet_city_Galle  \\\n",
       "10493832.0                                 0.0                0.0   \n",
       "10178643.0                                 0.0                0.0   \n",
       "10513916.0                                 0.0                0.0   \n",
       "10334589.0                                 0.0                0.0   \n",
       "10458365.0                                 0.0                0.0   \n",
       "\n",
       "            outlet_city_Gampaha  outlet_city_Homagama  ...  \\\n",
       "10493832.0                  0.0                   0.0  ...   \n",
       "10178643.0                  0.0                   0.0  ...   \n",
       "10513916.0                  0.0                   0.0  ...   \n",
       "10334589.0                  0.0                   0.0  ...   \n",
       "10458365.0                  0.0                   0.0  ...   \n",
       "\n",
       "            outlet_city_Katunayake  outlet_city_Kelaniya  outlet_city_Kotte  \\\n",
       "10493832.0                     0.0                   1.0                0.0   \n",
       "10178643.0                     0.0                   0.0                0.0   \n",
       "10513916.0                     0.0                   0.0                0.0   \n",
       "10334589.0                     0.0                   0.0                0.0   \n",
       "10458365.0                     0.0                   1.0                0.0   \n",
       "\n",
       "            outlet_city_Moratuwa  outlet_city_Negombo  \\\n",
       "10493832.0                   0.0                  0.0   \n",
       "10178643.0                   1.0                  0.0   \n",
       "10513916.0                   0.0                  0.0   \n",
       "10334589.0                   0.0                  0.0   \n",
       "10458365.0                   0.0                  0.0   \n",
       "\n",
       "            outlet_city_Nuwara Eliya  outlet_city_Panadura  \\\n",
       "10493832.0                       0.0                   0.0   \n",
       "10178643.0                       0.0                   0.0   \n",
       "10513916.0                       0.0                   0.0   \n",
       "10334589.0                       0.0                   0.0   \n",
       "10458365.0                       0.0                   0.0   \n",
       "\n",
       "            outlet_city_Peliyagoda  outlet_city_Trincomalee  \\\n",
       "10493832.0                     0.0                      0.0   \n",
       "10178643.0                     0.0                      0.0   \n",
       "10513916.0                     0.0                      0.0   \n",
       "10334589.0                     0.0                      0.0   \n",
       "10458365.0                     0.0                      0.0   \n",
       "\n",
       "            outlet_city_Wattala  \n",
       "10493832.0                  0.0  \n",
       "10178643.0                  0.0  \n",
       "10513916.0                  1.0  \n",
       "10334589.0                  1.0  \n",
       "10458365.0                  0.0  \n",
       "\n",
       "[5 rows x 24 columns]"
      ]
     },
     "execution_count": 19,
     "metadata": {},
     "output_type": "execute_result"
    }
   ],
   "source": [
    "train_data_f = train_data_f.astype('float64')\n",
    "train_data_f.head()"
   ]
  },
  {
   "cell_type": "markdown",
   "id": "20b339dc",
   "metadata": {
    "papermill": {
     "duration": 0.015963,
     "end_time": "2024-05-17T05:47:21.708430",
     "exception": false,
     "start_time": "2024-05-17T05:47:21.692467",
     "status": "completed"
    },
    "tags": []
   },
   "source": [
    "### Declare Independent and Dependent Variables"
   ]
  },
  {
   "cell_type": "code",
   "execution_count": 20,
   "id": "168cc661",
   "metadata": {
    "execution": {
     "iopub.execute_input": "2024-05-17T05:47:21.743292Z",
     "iopub.status.busy": "2024-05-17T05:47:21.742900Z",
     "iopub.status.idle": "2024-05-17T05:47:21.750202Z",
     "shell.execute_reply": "2024-05-17T05:47:21.749152Z"
    },
    "papermill": {
     "duration": 0.027684,
     "end_time": "2024-05-17T05:47:21.752406",
     "exception": false,
     "start_time": "2024-05-17T05:47:21.724722",
     "status": "completed"
    },
    "tags": []
   },
   "outputs": [
    {
     "data": {
      "text/plain": [
       "array([4., 1., 4., ..., 3., 3., 3.])"
      ]
     },
     "execution_count": 20,
     "metadata": {},
     "output_type": "execute_result"
    }
   ],
   "source": [
    "Y = train_data_f['cluster_catgeory'].to_numpy()\n",
    "Y"
   ]
  },
  {
   "cell_type": "markdown",
   "id": "2715e218",
   "metadata": {
    "papermill": {
     "duration": 0.015959,
     "end_time": "2024-05-17T05:47:21.784760",
     "exception": false,
     "start_time": "2024-05-17T05:47:21.768801",
     "status": "completed"
    },
    "tags": []
   },
   "source": [
    "### Scale the Data"
   ]
  },
  {
   "cell_type": "code",
   "execution_count": 21,
   "id": "aa90cb76",
   "metadata": {
    "execution": {
     "iopub.execute_input": "2024-05-17T05:47:21.821753Z",
     "iopub.status.busy": "2024-05-17T05:47:21.821333Z",
     "iopub.status.idle": "2024-05-17T05:47:22.268671Z",
     "shell.execute_reply": "2024-05-17T05:47:22.267421Z"
    },
    "papermill": {
     "duration": 0.467332,
     "end_time": "2024-05-17T05:47:22.271198",
     "exception": false,
     "start_time": "2024-05-17T05:47:21.803866",
     "status": "completed"
    },
    "tags": []
   },
   "outputs": [
    {
     "data": {
      "text/html": [
       "<div>\n",
       "<style scoped>\n",
       "    .dataframe tbody tr th:only-of-type {\n",
       "        vertical-align: middle;\n",
       "    }\n",
       "\n",
       "    .dataframe tbody tr th {\n",
       "        vertical-align: top;\n",
       "    }\n",
       "\n",
       "    .dataframe thead th {\n",
       "        text-align: right;\n",
       "    }\n",
       "</style>\n",
       "<table border=\"1\" class=\"dataframe\">\n",
       "  <thead>\n",
       "    <tr style=\"text-align: right;\">\n",
       "      <th></th>\n",
       "      <th>luxury_sales</th>\n",
       "      <th>fresh_sales</th>\n",
       "      <th>dry_sales</th>\n",
       "      <th>outlet_city_Batticaloa</th>\n",
       "      <th>outlet_city_Colombo</th>\n",
       "      <th>outlet_city_Dehiwala-Mount Lavinia</th>\n",
       "      <th>outlet_city_Galle</th>\n",
       "      <th>outlet_city_Gampaha</th>\n",
       "      <th>outlet_city_Homagama</th>\n",
       "      <th>outlet_city_Jaffna</th>\n",
       "      <th>...</th>\n",
       "      <th>outlet_city_Katunayake</th>\n",
       "      <th>outlet_city_Kelaniya</th>\n",
       "      <th>outlet_city_Kotte</th>\n",
       "      <th>outlet_city_Moratuwa</th>\n",
       "      <th>outlet_city_Negombo</th>\n",
       "      <th>outlet_city_Nuwara Eliya</th>\n",
       "      <th>outlet_city_Panadura</th>\n",
       "      <th>outlet_city_Peliyagoda</th>\n",
       "      <th>outlet_city_Trincomalee</th>\n",
       "      <th>outlet_city_Wattala</th>\n",
       "    </tr>\n",
       "  </thead>\n",
       "  <tbody>\n",
       "    <tr>\n",
       "      <th>10493832.0</th>\n",
       "      <td>-0.709602</td>\n",
       "      <td>-1.101678</td>\n",
       "      <td>0.180826</td>\n",
       "      <td>0.0</td>\n",
       "      <td>0.0</td>\n",
       "      <td>0.0</td>\n",
       "      <td>0.0</td>\n",
       "      <td>0.0</td>\n",
       "      <td>0.0</td>\n",
       "      <td>0.0</td>\n",
       "      <td>...</td>\n",
       "      <td>0.0</td>\n",
       "      <td>1.0</td>\n",
       "      <td>0.0</td>\n",
       "      <td>0.0</td>\n",
       "      <td>0.0</td>\n",
       "      <td>0.0</td>\n",
       "      <td>0.0</td>\n",
       "      <td>0.0</td>\n",
       "      <td>0.0</td>\n",
       "      <td>0.0</td>\n",
       "    </tr>\n",
       "    <tr>\n",
       "      <th>10178643.0</th>\n",
       "      <td>-0.330909</td>\n",
       "      <td>-1.010483</td>\n",
       "      <td>0.390581</td>\n",
       "      <td>0.0</td>\n",
       "      <td>0.0</td>\n",
       "      <td>0.0</td>\n",
       "      <td>0.0</td>\n",
       "      <td>0.0</td>\n",
       "      <td>0.0</td>\n",
       "      <td>0.0</td>\n",
       "      <td>...</td>\n",
       "      <td>0.0</td>\n",
       "      <td>0.0</td>\n",
       "      <td>0.0</td>\n",
       "      <td>1.0</td>\n",
       "      <td>0.0</td>\n",
       "      <td>0.0</td>\n",
       "      <td>0.0</td>\n",
       "      <td>0.0</td>\n",
       "      <td>0.0</td>\n",
       "      <td>0.0</td>\n",
       "    </tr>\n",
       "    <tr>\n",
       "      <th>10513916.0</th>\n",
       "      <td>0.364497</td>\n",
       "      <td>-0.884236</td>\n",
       "      <td>1.314052</td>\n",
       "      <td>0.0</td>\n",
       "      <td>0.0</td>\n",
       "      <td>0.0</td>\n",
       "      <td>0.0</td>\n",
       "      <td>0.0</td>\n",
       "      <td>0.0</td>\n",
       "      <td>0.0</td>\n",
       "      <td>...</td>\n",
       "      <td>0.0</td>\n",
       "      <td>0.0</td>\n",
       "      <td>0.0</td>\n",
       "      <td>0.0</td>\n",
       "      <td>0.0</td>\n",
       "      <td>0.0</td>\n",
       "      <td>0.0</td>\n",
       "      <td>0.0</td>\n",
       "      <td>0.0</td>\n",
       "      <td>1.0</td>\n",
       "    </tr>\n",
       "    <tr>\n",
       "      <th>10334589.0</th>\n",
       "      <td>0.350624</td>\n",
       "      <td>-0.806674</td>\n",
       "      <td>1.297697</td>\n",
       "      <td>0.0</td>\n",
       "      <td>0.0</td>\n",
       "      <td>0.0</td>\n",
       "      <td>0.0</td>\n",
       "      <td>0.0</td>\n",
       "      <td>0.0</td>\n",
       "      <td>0.0</td>\n",
       "      <td>...</td>\n",
       "      <td>0.0</td>\n",
       "      <td>0.0</td>\n",
       "      <td>0.0</td>\n",
       "      <td>0.0</td>\n",
       "      <td>0.0</td>\n",
       "      <td>0.0</td>\n",
       "      <td>0.0</td>\n",
       "      <td>0.0</td>\n",
       "      <td>0.0</td>\n",
       "      <td>1.0</td>\n",
       "    </tr>\n",
       "    <tr>\n",
       "      <th>10458365.0</th>\n",
       "      <td>0.420835</td>\n",
       "      <td>-0.707739</td>\n",
       "      <td>1.340002</td>\n",
       "      <td>0.0</td>\n",
       "      <td>0.0</td>\n",
       "      <td>0.0</td>\n",
       "      <td>0.0</td>\n",
       "      <td>0.0</td>\n",
       "      <td>0.0</td>\n",
       "      <td>0.0</td>\n",
       "      <td>...</td>\n",
       "      <td>0.0</td>\n",
       "      <td>1.0</td>\n",
       "      <td>0.0</td>\n",
       "      <td>0.0</td>\n",
       "      <td>0.0</td>\n",
       "      <td>0.0</td>\n",
       "      <td>0.0</td>\n",
       "      <td>0.0</td>\n",
       "      <td>0.0</td>\n",
       "      <td>0.0</td>\n",
       "    </tr>\n",
       "    <tr>\n",
       "      <th>...</th>\n",
       "      <td>...</td>\n",
       "      <td>...</td>\n",
       "      <td>...</td>\n",
       "      <td>...</td>\n",
       "      <td>...</td>\n",
       "      <td>...</td>\n",
       "      <td>...</td>\n",
       "      <td>...</td>\n",
       "      <td>...</td>\n",
       "      <td>...</td>\n",
       "      <td>...</td>\n",
       "      <td>...</td>\n",
       "      <td>...</td>\n",
       "      <td>...</td>\n",
       "      <td>...</td>\n",
       "      <td>...</td>\n",
       "      <td>...</td>\n",
       "      <td>...</td>\n",
       "      <td>...</td>\n",
       "      <td>...</td>\n",
       "      <td>...</td>\n",
       "    </tr>\n",
       "    <tr>\n",
       "      <th>10197979.0</th>\n",
       "      <td>1.961315</td>\n",
       "      <td>-0.160758</td>\n",
       "      <td>-0.359916</td>\n",
       "      <td>0.0</td>\n",
       "      <td>0.0</td>\n",
       "      <td>0.0</td>\n",
       "      <td>0.0</td>\n",
       "      <td>1.0</td>\n",
       "      <td>0.0</td>\n",
       "      <td>0.0</td>\n",
       "      <td>...</td>\n",
       "      <td>0.0</td>\n",
       "      <td>0.0</td>\n",
       "      <td>0.0</td>\n",
       "      <td>0.0</td>\n",
       "      <td>0.0</td>\n",
       "      <td>0.0</td>\n",
       "      <td>0.0</td>\n",
       "      <td>0.0</td>\n",
       "      <td>0.0</td>\n",
       "      <td>0.0</td>\n",
       "    </tr>\n",
       "    <tr>\n",
       "      <th>10494575.0</th>\n",
       "      <td>4.153203</td>\n",
       "      <td>0.338460</td>\n",
       "      <td>0.469198</td>\n",
       "      <td>0.0</td>\n",
       "      <td>0.0</td>\n",
       "      <td>0.0</td>\n",
       "      <td>0.0</td>\n",
       "      <td>0.0</td>\n",
       "      <td>0.0</td>\n",
       "      <td>0.0</td>\n",
       "      <td>...</td>\n",
       "      <td>1.0</td>\n",
       "      <td>0.0</td>\n",
       "      <td>0.0</td>\n",
       "      <td>0.0</td>\n",
       "      <td>0.0</td>\n",
       "      <td>0.0</td>\n",
       "      <td>0.0</td>\n",
       "      <td>0.0</td>\n",
       "      <td>0.0</td>\n",
       "      <td>0.0</td>\n",
       "    </tr>\n",
       "    <tr>\n",
       "      <th>10565682.0</th>\n",
       "      <td>3.183440</td>\n",
       "      <td>0.117181</td>\n",
       "      <td>-0.001753</td>\n",
       "      <td>0.0</td>\n",
       "      <td>1.0</td>\n",
       "      <td>0.0</td>\n",
       "      <td>0.0</td>\n",
       "      <td>0.0</td>\n",
       "      <td>0.0</td>\n",
       "      <td>0.0</td>\n",
       "      <td>...</td>\n",
       "      <td>0.0</td>\n",
       "      <td>0.0</td>\n",
       "      <td>0.0</td>\n",
       "      <td>0.0</td>\n",
       "      <td>0.0</td>\n",
       "      <td>0.0</td>\n",
       "      <td>0.0</td>\n",
       "      <td>0.0</td>\n",
       "      <td>0.0</td>\n",
       "      <td>0.0</td>\n",
       "    </tr>\n",
       "    <tr>\n",
       "      <th>10351977.0</th>\n",
       "      <td>4.368067</td>\n",
       "      <td>0.564519</td>\n",
       "      <td>0.371035</td>\n",
       "      <td>0.0</td>\n",
       "      <td>0.0</td>\n",
       "      <td>0.0</td>\n",
       "      <td>0.0</td>\n",
       "      <td>0.0</td>\n",
       "      <td>0.0</td>\n",
       "      <td>0.0</td>\n",
       "      <td>...</td>\n",
       "      <td>0.0</td>\n",
       "      <td>0.0</td>\n",
       "      <td>0.0</td>\n",
       "      <td>0.0</td>\n",
       "      <td>0.0</td>\n",
       "      <td>0.0</td>\n",
       "      <td>0.0</td>\n",
       "      <td>0.0</td>\n",
       "      <td>0.0</td>\n",
       "      <td>0.0</td>\n",
       "    </tr>\n",
       "    <tr>\n",
       "      <th>10637635.0</th>\n",
       "      <td>3.892102</td>\n",
       "      <td>0.479403</td>\n",
       "      <td>0.567796</td>\n",
       "      <td>0.0</td>\n",
       "      <td>0.0</td>\n",
       "      <td>0.0</td>\n",
       "      <td>0.0</td>\n",
       "      <td>0.0</td>\n",
       "      <td>0.0</td>\n",
       "      <td>0.0</td>\n",
       "      <td>...</td>\n",
       "      <td>0.0</td>\n",
       "      <td>0.0</td>\n",
       "      <td>0.0</td>\n",
       "      <td>0.0</td>\n",
       "      <td>1.0</td>\n",
       "      <td>0.0</td>\n",
       "      <td>0.0</td>\n",
       "      <td>0.0</td>\n",
       "      <td>0.0</td>\n",
       "      <td>0.0</td>\n",
       "    </tr>\n",
       "  </tbody>\n",
       "</table>\n",
       "<p>771095 rows × 23 columns</p>\n",
       "</div>"
      ],
      "text/plain": [
       "            luxury_sales  fresh_sales  dry_sales  outlet_city_Batticaloa  \\\n",
       "10493832.0     -0.709602    -1.101678   0.180826                     0.0   \n",
       "10178643.0     -0.330909    -1.010483   0.390581                     0.0   \n",
       "10513916.0      0.364497    -0.884236   1.314052                     0.0   \n",
       "10334589.0      0.350624    -0.806674   1.297697                     0.0   \n",
       "10458365.0      0.420835    -0.707739   1.340002                     0.0   \n",
       "...                  ...          ...        ...                     ...   \n",
       "10197979.0      1.961315    -0.160758  -0.359916                     0.0   \n",
       "10494575.0      4.153203     0.338460   0.469198                     0.0   \n",
       "10565682.0      3.183440     0.117181  -0.001753                     0.0   \n",
       "10351977.0      4.368067     0.564519   0.371035                     0.0   \n",
       "10637635.0      3.892102     0.479403   0.567796                     0.0   \n",
       "\n",
       "            outlet_city_Colombo  outlet_city_Dehiwala-Mount Lavinia  \\\n",
       "10493832.0                  0.0                                 0.0   \n",
       "10178643.0                  0.0                                 0.0   \n",
       "10513916.0                  0.0                                 0.0   \n",
       "10334589.0                  0.0                                 0.0   \n",
       "10458365.0                  0.0                                 0.0   \n",
       "...                         ...                                 ...   \n",
       "10197979.0                  0.0                                 0.0   \n",
       "10494575.0                  0.0                                 0.0   \n",
       "10565682.0                  1.0                                 0.0   \n",
       "10351977.0                  0.0                                 0.0   \n",
       "10637635.0                  0.0                                 0.0   \n",
       "\n",
       "            outlet_city_Galle  outlet_city_Gampaha  outlet_city_Homagama  \\\n",
       "10493832.0                0.0                  0.0                   0.0   \n",
       "10178643.0                0.0                  0.0                   0.0   \n",
       "10513916.0                0.0                  0.0                   0.0   \n",
       "10334589.0                0.0                  0.0                   0.0   \n",
       "10458365.0                0.0                  0.0                   0.0   \n",
       "...                       ...                  ...                   ...   \n",
       "10197979.0                0.0                  1.0                   0.0   \n",
       "10494575.0                0.0                  0.0                   0.0   \n",
       "10565682.0                0.0                  0.0                   0.0   \n",
       "10351977.0                0.0                  0.0                   0.0   \n",
       "10637635.0                0.0                  0.0                   0.0   \n",
       "\n",
       "            outlet_city_Jaffna  ...  outlet_city_Katunayake  \\\n",
       "10493832.0                 0.0  ...                     0.0   \n",
       "10178643.0                 0.0  ...                     0.0   \n",
       "10513916.0                 0.0  ...                     0.0   \n",
       "10334589.0                 0.0  ...                     0.0   \n",
       "10458365.0                 0.0  ...                     0.0   \n",
       "...                        ...  ...                     ...   \n",
       "10197979.0                 0.0  ...                     0.0   \n",
       "10494575.0                 0.0  ...                     1.0   \n",
       "10565682.0                 0.0  ...                     0.0   \n",
       "10351977.0                 0.0  ...                     0.0   \n",
       "10637635.0                 0.0  ...                     0.0   \n",
       "\n",
       "            outlet_city_Kelaniya  outlet_city_Kotte  outlet_city_Moratuwa  \\\n",
       "10493832.0                   1.0                0.0                   0.0   \n",
       "10178643.0                   0.0                0.0                   1.0   \n",
       "10513916.0                   0.0                0.0                   0.0   \n",
       "10334589.0                   0.0                0.0                   0.0   \n",
       "10458365.0                   1.0                0.0                   0.0   \n",
       "...                          ...                ...                   ...   \n",
       "10197979.0                   0.0                0.0                   0.0   \n",
       "10494575.0                   0.0                0.0                   0.0   \n",
       "10565682.0                   0.0                0.0                   0.0   \n",
       "10351977.0                   0.0                0.0                   0.0   \n",
       "10637635.0                   0.0                0.0                   0.0   \n",
       "\n",
       "            outlet_city_Negombo  outlet_city_Nuwara Eliya  \\\n",
       "10493832.0                  0.0                       0.0   \n",
       "10178643.0                  0.0                       0.0   \n",
       "10513916.0                  0.0                       0.0   \n",
       "10334589.0                  0.0                       0.0   \n",
       "10458365.0                  0.0                       0.0   \n",
       "...                         ...                       ...   \n",
       "10197979.0                  0.0                       0.0   \n",
       "10494575.0                  0.0                       0.0   \n",
       "10565682.0                  0.0                       0.0   \n",
       "10351977.0                  0.0                       0.0   \n",
       "10637635.0                  1.0                       0.0   \n",
       "\n",
       "            outlet_city_Panadura  outlet_city_Peliyagoda  \\\n",
       "10493832.0                   0.0                     0.0   \n",
       "10178643.0                   0.0                     0.0   \n",
       "10513916.0                   0.0                     0.0   \n",
       "10334589.0                   0.0                     0.0   \n",
       "10458365.0                   0.0                     0.0   \n",
       "...                          ...                     ...   \n",
       "10197979.0                   0.0                     0.0   \n",
       "10494575.0                   0.0                     0.0   \n",
       "10565682.0                   0.0                     0.0   \n",
       "10351977.0                   0.0                     0.0   \n",
       "10637635.0                   0.0                     0.0   \n",
       "\n",
       "            outlet_city_Trincomalee  outlet_city_Wattala  \n",
       "10493832.0                      0.0                  0.0  \n",
       "10178643.0                      0.0                  0.0  \n",
       "10513916.0                      0.0                  1.0  \n",
       "10334589.0                      0.0                  1.0  \n",
       "10458365.0                      0.0                  0.0  \n",
       "...                             ...                  ...  \n",
       "10197979.0                      0.0                  0.0  \n",
       "10494575.0                      0.0                  0.0  \n",
       "10565682.0                      0.0                  0.0  \n",
       "10351977.0                      0.0                  0.0  \n",
       "10637635.0                      0.0                  0.0  \n",
       "\n",
       "[771095 rows x 23 columns]"
      ]
     },
     "execution_count": 21,
     "metadata": {},
     "output_type": "execute_result"
    }
   ],
   "source": [
    "X = train_data_f.drop('cluster_catgeory',axis=1)\n",
    "transform = preprocessing.StandardScaler()\n",
    "X[['luxury_sales','fresh_sales','dry_sales']] = transform.fit_transform(X[['luxury_sales','fresh_sales','dry_sales']])\n",
    "X"
   ]
  },
  {
   "cell_type": "markdown",
   "id": "0f721cf4",
   "metadata": {
    "papermill": {
     "duration": 0.016662,
     "end_time": "2024-05-17T05:47:22.304906",
     "exception": false,
     "start_time": "2024-05-17T05:47:22.288244",
     "status": "completed"
    },
    "tags": []
   },
   "source": [
    "### Split the data or find model accuracy"
   ]
  },
  {
   "cell_type": "code",
   "execution_count": 22,
   "id": "3cf83793",
   "metadata": {
    "execution": {
     "iopub.execute_input": "2024-05-17T05:47:22.341330Z",
     "iopub.status.busy": "2024-05-17T05:47:22.340785Z",
     "iopub.status.idle": "2024-05-17T05:47:22.575430Z",
     "shell.execute_reply": "2024-05-17T05:47:22.574324Z"
    },
    "papermill": {
     "duration": 0.256318,
     "end_time": "2024-05-17T05:47:22.578093",
     "exception": false,
     "start_time": "2024-05-17T05:47:22.321775",
     "status": "completed"
    },
    "tags": []
   },
   "outputs": [],
   "source": [
    "X_train, X_test, Y_train, Y_test = train_test_split(X,Y, test_size = 0.2, random_state = 2)"
   ]
  },
  {
   "cell_type": "markdown",
   "id": "6b273022",
   "metadata": {
    "papermill": {
     "duration": 0.01665,
     "end_time": "2024-05-17T05:47:22.613723",
     "exception": false,
     "start_time": "2024-05-17T05:47:22.597073",
     "status": "completed"
    },
    "tags": []
   },
   "source": [
    "### OneVsRest Multiclass Classification with Logistic Regression"
   ]
  },
  {
   "cell_type": "code",
   "execution_count": 23,
   "id": "c16aa440",
   "metadata": {
    "execution": {
     "iopub.execute_input": "2024-05-17T05:47:22.650554Z",
     "iopub.status.busy": "2024-05-17T05:47:22.649284Z",
     "iopub.status.idle": "2024-05-17T05:47:48.624942Z",
     "shell.execute_reply": "2024-05-17T05:47:48.623697Z"
    },
    "papermill": {
     "duration": 25.997908,
     "end_time": "2024-05-17T05:47:48.628693",
     "exception": false,
     "start_time": "2024-05-17T05:47:22.630785",
     "status": "completed"
    },
    "tags": []
   },
   "outputs": [
    {
     "data": {
      "text/html": [
       "<style>#sk-container-id-1 {color: black;background-color: white;}#sk-container-id-1 pre{padding: 0;}#sk-container-id-1 div.sk-toggleable {background-color: white;}#sk-container-id-1 label.sk-toggleable__label {cursor: pointer;display: block;width: 100%;margin-bottom: 0;padding: 0.3em;box-sizing: border-box;text-align: center;}#sk-container-id-1 label.sk-toggleable__label-arrow:before {content: \"▸\";float: left;margin-right: 0.25em;color: #696969;}#sk-container-id-1 label.sk-toggleable__label-arrow:hover:before {color: black;}#sk-container-id-1 div.sk-estimator:hover label.sk-toggleable__label-arrow:before {color: black;}#sk-container-id-1 div.sk-toggleable__content {max-height: 0;max-width: 0;overflow: hidden;text-align: left;background-color: #f0f8ff;}#sk-container-id-1 div.sk-toggleable__content pre {margin: 0.2em;color: black;border-radius: 0.25em;background-color: #f0f8ff;}#sk-container-id-1 input.sk-toggleable__control:checked~div.sk-toggleable__content {max-height: 200px;max-width: 100%;overflow: auto;}#sk-container-id-1 input.sk-toggleable__control:checked~label.sk-toggleable__label-arrow:before {content: \"▾\";}#sk-container-id-1 div.sk-estimator input.sk-toggleable__control:checked~label.sk-toggleable__label {background-color: #d4ebff;}#sk-container-id-1 div.sk-label input.sk-toggleable__control:checked~label.sk-toggleable__label {background-color: #d4ebff;}#sk-container-id-1 input.sk-hidden--visually {border: 0;clip: rect(1px 1px 1px 1px);clip: rect(1px, 1px, 1px, 1px);height: 1px;margin: -1px;overflow: hidden;padding: 0;position: absolute;width: 1px;}#sk-container-id-1 div.sk-estimator {font-family: monospace;background-color: #f0f8ff;border: 1px dotted black;border-radius: 0.25em;box-sizing: border-box;margin-bottom: 0.5em;}#sk-container-id-1 div.sk-estimator:hover {background-color: #d4ebff;}#sk-container-id-1 div.sk-parallel-item::after {content: \"\";width: 100%;border-bottom: 1px solid gray;flex-grow: 1;}#sk-container-id-1 div.sk-label:hover label.sk-toggleable__label {background-color: #d4ebff;}#sk-container-id-1 div.sk-serial::before {content: \"\";position: absolute;border-left: 1px solid gray;box-sizing: border-box;top: 0;bottom: 0;left: 50%;z-index: 0;}#sk-container-id-1 div.sk-serial {display: flex;flex-direction: column;align-items: center;background-color: white;padding-right: 0.2em;padding-left: 0.2em;position: relative;}#sk-container-id-1 div.sk-item {position: relative;z-index: 1;}#sk-container-id-1 div.sk-parallel {display: flex;align-items: stretch;justify-content: center;background-color: white;position: relative;}#sk-container-id-1 div.sk-item::before, #sk-container-id-1 div.sk-parallel-item::before {content: \"\";position: absolute;border-left: 1px solid gray;box-sizing: border-box;top: 0;bottom: 0;left: 50%;z-index: -1;}#sk-container-id-1 div.sk-parallel-item {display: flex;flex-direction: column;z-index: 1;position: relative;background-color: white;}#sk-container-id-1 div.sk-parallel-item:first-child::after {align-self: flex-end;width: 50%;}#sk-container-id-1 div.sk-parallel-item:last-child::after {align-self: flex-start;width: 50%;}#sk-container-id-1 div.sk-parallel-item:only-child::after {width: 0;}#sk-container-id-1 div.sk-dashed-wrapped {border: 1px dashed gray;margin: 0 0.4em 0.5em 0.4em;box-sizing: border-box;padding-bottom: 0.4em;background-color: white;}#sk-container-id-1 div.sk-label label {font-family: monospace;font-weight: bold;display: inline-block;line-height: 1.2em;}#sk-container-id-1 div.sk-label-container {text-align: center;}#sk-container-id-1 div.sk-container {/* jupyter's `normalize.less` sets `[hidden] { display: none; }` but bootstrap.min.css set `[hidden] { display: none !important; }` so we also need the `!important` here to be able to override the default hidden behavior on the sphinx rendered scikit-learn.org. See: https://github.com/scikit-learn/scikit-learn/issues/21755 */display: inline-block !important;position: relative;}#sk-container-id-1 div.sk-text-repr-fallback {display: none;}</style><div id=\"sk-container-id-1\" class=\"sk-top-container\"><div class=\"sk-text-repr-fallback\"><pre>OneVsRestClassifier(estimator=LogisticRegression())</pre><b>In a Jupyter environment, please rerun this cell to show the HTML representation or trust the notebook. <br />On GitHub, the HTML representation is unable to render, please try loading this page with nbviewer.org.</b></div><div class=\"sk-container\" hidden><div class=\"sk-item sk-dashed-wrapped\"><div class=\"sk-label-container\"><div class=\"sk-label sk-toggleable\"><input class=\"sk-toggleable__control sk-hidden--visually\" id=\"sk-estimator-id-1\" type=\"checkbox\" ><label for=\"sk-estimator-id-1\" class=\"sk-toggleable__label sk-toggleable__label-arrow\">OneVsRestClassifier</label><div class=\"sk-toggleable__content\"><pre>OneVsRestClassifier(estimator=LogisticRegression())</pre></div></div></div><div class=\"sk-parallel\"><div class=\"sk-parallel-item\"><div class=\"sk-item\"><div class=\"sk-label-container\"><div class=\"sk-label sk-toggleable\"><input class=\"sk-toggleable__control sk-hidden--visually\" id=\"sk-estimator-id-2\" type=\"checkbox\" ><label for=\"sk-estimator-id-2\" class=\"sk-toggleable__label sk-toggleable__label-arrow\">estimator: LogisticRegression</label><div class=\"sk-toggleable__content\"><pre>LogisticRegression()</pre></div></div></div><div class=\"sk-serial\"><div class=\"sk-item\"><div class=\"sk-estimator sk-toggleable\"><input class=\"sk-toggleable__control sk-hidden--visually\" id=\"sk-estimator-id-3\" type=\"checkbox\" ><label for=\"sk-estimator-id-3\" class=\"sk-toggleable__label sk-toggleable__label-arrow\">LogisticRegression</label><div class=\"sk-toggleable__content\"><pre>LogisticRegression()</pre></div></div></div></div></div></div></div></div></div></div>"
      ],
      "text/plain": [
       "OneVsRestClassifier(estimator=LogisticRegression())"
      ]
     },
     "execution_count": 23,
     "metadata": {},
     "output_type": "execute_result"
    }
   ],
   "source": [
    "lr = LogisticRegression()\n",
    "ovr = OneVsRestClassifier(lr)\n",
    "ovr.fit(X_train,Y_train)"
   ]
  },
  {
   "cell_type": "code",
   "execution_count": 24,
   "id": "a1d1f2ab",
   "metadata": {
    "execution": {
     "iopub.execute_input": "2024-05-17T05:47:48.693128Z",
     "iopub.status.busy": "2024-05-17T05:47:48.692566Z",
     "iopub.status.idle": "2024-05-17T05:47:48.827703Z",
     "shell.execute_reply": "2024-05-17T05:47:48.826413Z"
    },
    "papermill": {
     "duration": 0.171994,
     "end_time": "2024-05-17T05:47:48.831397",
     "exception": false,
     "start_time": "2024-05-17T05:47:48.659403",
     "status": "completed"
    },
    "tags": []
   },
   "outputs": [],
   "source": [
    "Y_ovr = ovr.predict(X_test)"
   ]
  },
  {
   "cell_type": "code",
   "execution_count": 25,
   "id": "15ada44b",
   "metadata": {
    "execution": {
     "iopub.execute_input": "2024-05-17T05:47:48.892305Z",
     "iopub.status.busy": "2024-05-17T05:47:48.891781Z",
     "iopub.status.idle": "2024-05-17T05:47:48.926714Z",
     "shell.execute_reply": "2024-05-17T05:47:48.925551Z"
    },
    "papermill": {
     "duration": 0.069022,
     "end_time": "2024-05-17T05:47:48.930078",
     "exception": false,
     "start_time": "2024-05-17T05:47:48.861056",
     "status": "completed"
    },
    "tags": []
   },
   "outputs": [
    {
     "data": {
      "text/plain": [
       "0.9997989871546308"
      ]
     },
     "execution_count": 25,
     "metadata": {},
     "output_type": "execute_result"
    }
   ],
   "source": [
    "accuracyOvr = accuracy_score(Y_test,Y_ovr)\n",
    "accuracyOvr"
   ]
  },
  {
   "cell_type": "code",
   "execution_count": 26,
   "id": "407b35d5",
   "metadata": {
    "execution": {
     "iopub.execute_input": "2024-05-17T05:47:48.972440Z",
     "iopub.status.busy": "2024-05-17T05:47:48.972052Z",
     "iopub.status.idle": "2024-05-17T05:47:49.382551Z",
     "shell.execute_reply": "2024-05-17T05:47:49.381212Z"
    },
    "papermill": {
     "duration": 0.43274,
     "end_time": "2024-05-17T05:47:49.385951",
     "exception": false,
     "start_time": "2024-05-17T05:47:48.953211",
     "status": "completed"
    },
    "tags": []
   },
   "outputs": [
    {
     "name": "stdout",
     "output_type": "stream",
     "text": [
      "              precision    recall  f1-score   support\n",
      "\n",
      "         1.0       1.00      1.00      1.00     37801\n",
      "         2.0       1.00      1.00      1.00     30637\n",
      "         3.0       1.00      1.00      1.00      9960\n",
      "         4.0       1.00      1.00      1.00     34229\n",
      "         5.0       1.00      1.00      1.00      7840\n",
      "         6.0       1.00      1.00      1.00     33752\n",
      "\n",
      "    accuracy                           1.00    154219\n",
      "   macro avg       1.00      1.00      1.00    154219\n",
      "weighted avg       1.00      1.00      1.00    154219\n",
      "\n"
     ]
    }
   ],
   "source": [
    "print(classification_report(Y_test,Y_ovr))"
   ]
  },
  {
   "cell_type": "markdown",
   "id": "988ae39c",
   "metadata": {
    "papermill": {
     "duration": 0.018227,
     "end_time": "2024-05-17T05:47:49.422729",
     "exception": false,
     "start_time": "2024-05-17T05:47:49.404502",
     "status": "completed"
    },
    "tags": []
   },
   "source": [
    "### OneVsOne Multiclass Classification with SVM"
   ]
  },
  {
   "cell_type": "code",
   "execution_count": 27,
   "id": "9de5bfd1",
   "metadata": {
    "execution": {
     "iopub.execute_input": "2024-05-17T05:47:49.461359Z",
     "iopub.status.busy": "2024-05-17T05:47:49.460924Z",
     "iopub.status.idle": "2024-05-17T05:48:42.004555Z",
     "shell.execute_reply": "2024-05-17T05:48:42.003141Z"
    },
    "papermill": {
     "duration": 52.583581,
     "end_time": "2024-05-17T05:48:42.024700",
     "exception": false,
     "start_time": "2024-05-17T05:47:49.441119",
     "status": "completed"
    },
    "tags": []
   },
   "outputs": [
    {
     "data": {
      "text/html": [
       "<style>#sk-container-id-2 {color: black;background-color: white;}#sk-container-id-2 pre{padding: 0;}#sk-container-id-2 div.sk-toggleable {background-color: white;}#sk-container-id-2 label.sk-toggleable__label {cursor: pointer;display: block;width: 100%;margin-bottom: 0;padding: 0.3em;box-sizing: border-box;text-align: center;}#sk-container-id-2 label.sk-toggleable__label-arrow:before {content: \"▸\";float: left;margin-right: 0.25em;color: #696969;}#sk-container-id-2 label.sk-toggleable__label-arrow:hover:before {color: black;}#sk-container-id-2 div.sk-estimator:hover label.sk-toggleable__label-arrow:before {color: black;}#sk-container-id-2 div.sk-toggleable__content {max-height: 0;max-width: 0;overflow: hidden;text-align: left;background-color: #f0f8ff;}#sk-container-id-2 div.sk-toggleable__content pre {margin: 0.2em;color: black;border-radius: 0.25em;background-color: #f0f8ff;}#sk-container-id-2 input.sk-toggleable__control:checked~div.sk-toggleable__content {max-height: 200px;max-width: 100%;overflow: auto;}#sk-container-id-2 input.sk-toggleable__control:checked~label.sk-toggleable__label-arrow:before {content: \"▾\";}#sk-container-id-2 div.sk-estimator input.sk-toggleable__control:checked~label.sk-toggleable__label {background-color: #d4ebff;}#sk-container-id-2 div.sk-label input.sk-toggleable__control:checked~label.sk-toggleable__label {background-color: #d4ebff;}#sk-container-id-2 input.sk-hidden--visually {border: 0;clip: rect(1px 1px 1px 1px);clip: rect(1px, 1px, 1px, 1px);height: 1px;margin: -1px;overflow: hidden;padding: 0;position: absolute;width: 1px;}#sk-container-id-2 div.sk-estimator {font-family: monospace;background-color: #f0f8ff;border: 1px dotted black;border-radius: 0.25em;box-sizing: border-box;margin-bottom: 0.5em;}#sk-container-id-2 div.sk-estimator:hover {background-color: #d4ebff;}#sk-container-id-2 div.sk-parallel-item::after {content: \"\";width: 100%;border-bottom: 1px solid gray;flex-grow: 1;}#sk-container-id-2 div.sk-label:hover label.sk-toggleable__label {background-color: #d4ebff;}#sk-container-id-2 div.sk-serial::before {content: \"\";position: absolute;border-left: 1px solid gray;box-sizing: border-box;top: 0;bottom: 0;left: 50%;z-index: 0;}#sk-container-id-2 div.sk-serial {display: flex;flex-direction: column;align-items: center;background-color: white;padding-right: 0.2em;padding-left: 0.2em;position: relative;}#sk-container-id-2 div.sk-item {position: relative;z-index: 1;}#sk-container-id-2 div.sk-parallel {display: flex;align-items: stretch;justify-content: center;background-color: white;position: relative;}#sk-container-id-2 div.sk-item::before, #sk-container-id-2 div.sk-parallel-item::before {content: \"\";position: absolute;border-left: 1px solid gray;box-sizing: border-box;top: 0;bottom: 0;left: 50%;z-index: -1;}#sk-container-id-2 div.sk-parallel-item {display: flex;flex-direction: column;z-index: 1;position: relative;background-color: white;}#sk-container-id-2 div.sk-parallel-item:first-child::after {align-self: flex-end;width: 50%;}#sk-container-id-2 div.sk-parallel-item:last-child::after {align-self: flex-start;width: 50%;}#sk-container-id-2 div.sk-parallel-item:only-child::after {width: 0;}#sk-container-id-2 div.sk-dashed-wrapped {border: 1px dashed gray;margin: 0 0.4em 0.5em 0.4em;box-sizing: border-box;padding-bottom: 0.4em;background-color: white;}#sk-container-id-2 div.sk-label label {font-family: monospace;font-weight: bold;display: inline-block;line-height: 1.2em;}#sk-container-id-2 div.sk-label-container {text-align: center;}#sk-container-id-2 div.sk-container {/* jupyter's `normalize.less` sets `[hidden] { display: none; }` but bootstrap.min.css set `[hidden] { display: none !important; }` so we also need the `!important` here to be able to override the default hidden behavior on the sphinx rendered scikit-learn.org. See: https://github.com/scikit-learn/scikit-learn/issues/21755 */display: inline-block !important;position: relative;}#sk-container-id-2 div.sk-text-repr-fallback {display: none;}</style><div id=\"sk-container-id-2\" class=\"sk-top-container\"><div class=\"sk-text-repr-fallback\"><pre>OneVsOneClassifier(estimator=SVC())</pre><b>In a Jupyter environment, please rerun this cell to show the HTML representation or trust the notebook. <br />On GitHub, the HTML representation is unable to render, please try loading this page with nbviewer.org.</b></div><div class=\"sk-container\" hidden><div class=\"sk-item sk-dashed-wrapped\"><div class=\"sk-label-container\"><div class=\"sk-label sk-toggleable\"><input class=\"sk-toggleable__control sk-hidden--visually\" id=\"sk-estimator-id-4\" type=\"checkbox\" ><label for=\"sk-estimator-id-4\" class=\"sk-toggleable__label sk-toggleable__label-arrow\">OneVsOneClassifier</label><div class=\"sk-toggleable__content\"><pre>OneVsOneClassifier(estimator=SVC())</pre></div></div></div><div class=\"sk-parallel\"><div class=\"sk-parallel-item\"><div class=\"sk-item\"><div class=\"sk-label-container\"><div class=\"sk-label sk-toggleable\"><input class=\"sk-toggleable__control sk-hidden--visually\" id=\"sk-estimator-id-5\" type=\"checkbox\" ><label for=\"sk-estimator-id-5\" class=\"sk-toggleable__label sk-toggleable__label-arrow\">estimator: SVC</label><div class=\"sk-toggleable__content\"><pre>SVC()</pre></div></div></div><div class=\"sk-serial\"><div class=\"sk-item\"><div class=\"sk-estimator sk-toggleable\"><input class=\"sk-toggleable__control sk-hidden--visually\" id=\"sk-estimator-id-6\" type=\"checkbox\" ><label for=\"sk-estimator-id-6\" class=\"sk-toggleable__label sk-toggleable__label-arrow\">SVC</label><div class=\"sk-toggleable__content\"><pre>SVC()</pre></div></div></div></div></div></div></div></div></div></div>"
      ],
      "text/plain": [
       "OneVsOneClassifier(estimator=SVC())"
      ]
     },
     "execution_count": 27,
     "metadata": {},
     "output_type": "execute_result"
    }
   ],
   "source": [
    "svm = SVC()\n",
    "ovo = OneVsOneClassifier(svm)\n",
    "ovo.fit(X_train,Y_train)"
   ]
  },
  {
   "cell_type": "code",
   "execution_count": 28,
   "id": "fece2ff2",
   "metadata": {
    "execution": {
     "iopub.execute_input": "2024-05-17T05:48:42.065735Z",
     "iopub.status.busy": "2024-05-17T05:48:42.064744Z",
     "iopub.status.idle": "2024-05-17T05:49:32.796530Z",
     "shell.execute_reply": "2024-05-17T05:49:32.795173Z"
    },
    "papermill": {
     "duration": 50.755894,
     "end_time": "2024-05-17T05:49:32.799839",
     "exception": false,
     "start_time": "2024-05-17T05:48:42.043945",
     "status": "completed"
    },
    "tags": []
   },
   "outputs": [],
   "source": [
    "Y_ovo = ovo.predict(X_test)"
   ]
  },
  {
   "cell_type": "code",
   "execution_count": 29,
   "id": "b397bdeb",
   "metadata": {
    "execution": {
     "iopub.execute_input": "2024-05-17T05:49:32.840997Z",
     "iopub.status.busy": "2024-05-17T05:49:32.840584Z",
     "iopub.status.idle": "2024-05-17T05:49:32.860913Z",
     "shell.execute_reply": "2024-05-17T05:49:32.859702Z"
    },
    "papermill": {
     "duration": 0.043632,
     "end_time": "2024-05-17T05:49:32.863617",
     "exception": false,
     "start_time": "2024-05-17T05:49:32.819985",
     "status": "completed"
    },
    "tags": []
   },
   "outputs": [
    {
     "data": {
      "text/plain": [
       "0.9997989871546308"
      ]
     },
     "execution_count": 29,
     "metadata": {},
     "output_type": "execute_result"
    }
   ],
   "source": [
    "accuracyOvo = accuracy_score(Y_test,Y_ovo)\n",
    "accuracyOvo"
   ]
  },
  {
   "cell_type": "code",
   "execution_count": 30,
   "id": "049f188b",
   "metadata": {
    "execution": {
     "iopub.execute_input": "2024-05-17T05:49:32.902331Z",
     "iopub.status.busy": "2024-05-17T05:49:32.901914Z",
     "iopub.status.idle": "2024-05-17T05:49:33.328158Z",
     "shell.execute_reply": "2024-05-17T05:49:33.326676Z"
    },
    "papermill": {
     "duration": 0.448898,
     "end_time": "2024-05-17T05:49:33.331335",
     "exception": false,
     "start_time": "2024-05-17T05:49:32.882437",
     "status": "completed"
    },
    "tags": []
   },
   "outputs": [
    {
     "name": "stdout",
     "output_type": "stream",
     "text": [
      "              precision    recall  f1-score   support\n",
      "\n",
      "         1.0       1.00      1.00      1.00     37801\n",
      "         2.0       1.00      1.00      1.00     30637\n",
      "         3.0       1.00      1.00      1.00      9960\n",
      "         4.0       1.00      1.00      1.00     34229\n",
      "         5.0       1.00      1.00      1.00      7840\n",
      "         6.0       1.00      1.00      1.00     33752\n",
      "\n",
      "    accuracy                           1.00    154219\n",
      "   macro avg       1.00      1.00      1.00    154219\n",
      "weighted avg       1.00      1.00      1.00    154219\n",
      "\n"
     ]
    }
   ],
   "source": [
    "print(classification_report(Y_test,Y_ovo))"
   ]
  },
  {
   "cell_type": "markdown",
   "id": "472585bf",
   "metadata": {
    "papermill": {
     "duration": 0.017828,
     "end_time": "2024-05-17T05:49:33.368618",
     "exception": false,
     "start_time": "2024-05-17T05:49:33.350790",
     "status": "completed"
    },
    "tags": []
   },
   "source": [
    "### Both methods gave same accuracy"
   ]
  },
  {
   "cell_type": "code",
   "execution_count": 31,
   "id": "a08be499",
   "metadata": {
    "execution": {
     "iopub.execute_input": "2024-05-17T05:49:33.408510Z",
     "iopub.status.busy": "2024-05-17T05:49:33.408134Z",
     "iopub.status.idle": "2024-05-17T05:49:33.649742Z",
     "shell.execute_reply": "2024-05-17T05:49:33.648317Z"
    },
    "papermill": {
     "duration": 0.264929,
     "end_time": "2024-05-17T05:49:33.652286",
     "exception": false,
     "start_time": "2024-05-17T05:49:33.387357",
     "status": "completed"
    },
    "tags": []
   },
   "outputs": [
    {
     "name": "stderr",
     "output_type": "stream",
     "text": [
      "/opt/conda/lib/python3.10/site-packages/seaborn/_oldcore.py:1765: FutureWarning: unique with argument that is not not a Series, Index, ExtensionArray, or np.ndarray is deprecated and will raise in a future version.\n",
      "  order = pd.unique(vector)\n"
     ]
    },
    {
     "data": {
      "image/png": "[encoded data removed]",
      "text/plain": [
       "<Figure size 640x480 with 1 Axes>"
      ]
     },
     "metadata": {},
     "output_type": "display_data"
    }
   ],
   "source": [
    "accuracies = [accuracyOvr,accuracyOvo]\n",
    "models = ['OneVsRest','OnevsOne']\n",
    "\n",
    "ax = sns.barplot(x=models,y=accuracies)\n",
    "plt.xticks(rotation=60)\n",
    "plt.ylim(0.99929,1)\n",
    "plt.show()"
   ]
  },
  {
   "cell_type": "markdown",
   "id": "0dbe47c8",
   "metadata": {
    "papermill": {
     "duration": 0.018327,
     "end_time": "2024-05-17T05:49:33.689974",
     "exception": false,
     "start_time": "2024-05-17T05:49:33.671647",
     "status": "completed"
    },
    "tags": []
   },
   "source": [
    "## Step 5: Load New Data"
   ]
  },
  {
   "cell_type": "code",
   "execution_count": 32,
   "id": "7273d531",
   "metadata": {
    "execution": {
     "iopub.execute_input": "2024-05-17T05:49:33.728743Z",
     "iopub.status.busy": "2024-05-17T05:49:33.728325Z",
     "iopub.status.idle": "2024-05-17T05:49:33.842709Z",
     "shell.execute_reply": "2024-05-17T05:49:33.840930Z"
    },
    "papermill": {
     "duration": 0.137447,
     "end_time": "2024-05-17T05:49:33.845902",
     "exception": false,
     "start_time": "2024-05-17T05:49:33.708455",
     "status": "completed"
    },
    "tags": []
   },
   "outputs": [
    {
     "data": {
      "text/html": [
       "<div>\n",
       "<style scoped>\n",
       "    .dataframe tbody tr th:only-of-type {\n",
       "        vertical-align: middle;\n",
       "    }\n",
       "\n",
       "    .dataframe tbody tr th {\n",
       "        vertical-align: top;\n",
       "    }\n",
       "\n",
       "    .dataframe thead th {\n",
       "        text-align: right;\n",
       "    }\n",
       "</style>\n",
       "<table border=\"1\" class=\"dataframe\">\n",
       "  <thead>\n",
       "    <tr style=\"text-align: right;\">\n",
       "      <th></th>\n",
       "      <th>Customer_ID</th>\n",
       "      <th>outlet_city</th>\n",
       "      <th>luxury_sales</th>\n",
       "      <th>fresh_sales</th>\n",
       "      <th>dry_sales</th>\n",
       "    </tr>\n",
       "  </thead>\n",
       "  <tbody>\n",
       "    <tr>\n",
       "      <th>0</th>\n",
       "      <td>33574</td>\n",
       "      <td>batticaloa</td>\n",
       "      <td>2686.5</td>\n",
       "      <td>3582</td>\n",
       "      <td>12537</td>\n",
       "    </tr>\n",
       "    <tr>\n",
       "      <th>1</th>\n",
       "      <td>10089</td>\n",
       "      <td>batticaloa</td>\n",
       "      <td>1717.56</td>\n",
       "      <td>2576.34</td>\n",
       "      <td>9446.58</td>\n",
       "    </tr>\n",
       "    <tr>\n",
       "      <th>2</th>\n",
       "      <td>38329</td>\n",
       "      <td>batticaloa</td>\n",
       "      <td>854.04</td>\n",
       "      <td>1242.24</td>\n",
       "      <td>5201.88</td>\n",
       "    </tr>\n",
       "    <tr>\n",
       "      <th>3</th>\n",
       "      <td>11376</td>\n",
       "      <td>batticaloa</td>\n",
       "      <td>1638.12</td>\n",
       "      <td>2320.67</td>\n",
       "      <td>9282.68</td>\n",
       "    </tr>\n",
       "    <tr>\n",
       "      <th>4</th>\n",
       "      <td>12410</td>\n",
       "      <td>batticaloa</td>\n",
       "      <td>1039.09</td>\n",
       "      <td>1518.67</td>\n",
       "      <td>5435.24</td>\n",
       "    </tr>\n",
       "  </tbody>\n",
       "</table>\n",
       "</div>"
      ],
      "text/plain": [
       "   Customer_ID outlet_city luxury_sales fresh_sales dry_sales\n",
       "0        33574  batticaloa       2686.5        3582     12537\n",
       "1        10089  batticaloa      1717.56     2576.34   9446.58\n",
       "2        38329  batticaloa       854.04     1242.24   5201.88\n",
       "3        11376  batticaloa      1638.12     2320.67   9282.68\n",
       "4        12410  batticaloa      1039.09     1518.67   5435.24"
      ]
     },
     "execution_count": 32,
     "metadata": {},
     "output_type": "execute_result"
    }
   ],
   "source": [
    "test_data = pd.read_csv('/kaggle/input/data-storm-5-0/test_kaggle.csv')\n",
    "test_data.head()"
   ]
  },
  {
   "cell_type": "code",
   "execution_count": 33,
   "id": "9929adb8",
   "metadata": {
    "execution": {
     "iopub.execute_input": "2024-05-17T05:49:33.891290Z",
     "iopub.status.busy": "2024-05-17T05:49:33.890783Z",
     "iopub.status.idle": "2024-05-17T05:49:33.897841Z",
     "shell.execute_reply": "2024-05-17T05:49:33.896295Z"
    },
    "papermill": {
     "duration": 0.03334,
     "end_time": "2024-05-17T05:49:33.900584",
     "exception": false,
     "start_time": "2024-05-17T05:49:33.867244",
     "status": "completed"
    },
    "tags": []
   },
   "outputs": [],
   "source": [
    "test_data.set_index('Customer_ID',inplace=True)\n",
    "test_data.index.name = None"
   ]
  },
  {
   "cell_type": "markdown",
   "id": "81b42c86",
   "metadata": {
    "papermill": {
     "duration": 0.020472,
     "end_time": "2024-05-17T05:49:33.941046",
     "exception": false,
     "start_time": "2024-05-17T05:49:33.920574",
     "status": "completed"
    },
    "tags": []
   },
   "source": [
    "### Handle Missing Values"
   ]
  },
  {
   "cell_type": "code",
   "execution_count": 34,
   "id": "6b7485c4",
   "metadata": {
    "execution": {
     "iopub.execute_input": "2024-05-17T05:49:33.985814Z",
     "iopub.status.busy": "2024-05-17T05:49:33.984749Z",
     "iopub.status.idle": "2024-05-17T05:49:34.049472Z",
     "shell.execute_reply": "2024-05-17T05:49:34.047734Z"
    },
    "papermill": {
     "duration": 0.091649,
     "end_time": "2024-05-17T05:49:34.052906",
     "exception": false,
     "start_time": "2024-05-17T05:49:33.961257",
     "status": "completed"
    },
    "tags": []
   },
   "outputs": [],
   "source": [
    "test_data['luxury_sales'] = pd.to_numeric(test_data['luxury_sales'], errors='coerce')\n",
    "test_data['fresh_sales'] = pd.to_numeric(test_data['fresh_sales'], errors='coerce')\n",
    "test_data['dry_sales'] = pd.to_numeric(test_data['dry_sales'], errors='coerce')"
   ]
  },
  {
   "cell_type": "code",
   "execution_count": 35,
   "id": "e0a796f4",
   "metadata": {
    "execution": {
     "iopub.execute_input": "2024-05-17T05:49:34.097730Z",
     "iopub.status.busy": "2024-05-17T05:49:34.097194Z",
     "iopub.status.idle": "2024-05-17T05:49:34.109819Z",
     "shell.execute_reply": "2024-05-17T05:49:34.108702Z"
    },
    "papermill": {
     "duration": 0.038314,
     "end_time": "2024-05-17T05:49:34.112784",
     "exception": false,
     "start_time": "2024-05-17T05:49:34.074470",
     "status": "completed"
    },
    "tags": []
   },
   "outputs": [
    {
     "data": {
      "text/plain": [
       "outlet_city     0\n",
       "luxury_sales    2\n",
       "fresh_sales     1\n",
       "dry_sales       1\n",
       "dtype: int64"
      ]
     },
     "execution_count": 35,
     "metadata": {},
     "output_type": "execute_result"
    }
   ],
   "source": [
    "test_data.isnull().sum()"
   ]
  },
  {
   "cell_type": "markdown",
   "id": "aa756cce",
   "metadata": {
    "papermill": {
     "duration": 0.020238,
     "end_time": "2024-05-17T05:49:34.153470",
     "exception": false,
     "start_time": "2024-05-17T05:49:34.133232",
     "status": "completed"
    },
    "tags": []
   },
   "source": [
    "### Used the mean to fill missing values"
   ]
  },
  {
   "cell_type": "code",
   "execution_count": 36,
   "id": "64a43e64",
   "metadata": {
    "execution": {
     "iopub.execute_input": "2024-05-17T05:49:34.200710Z",
     "iopub.status.busy": "2024-05-17T05:49:34.200167Z",
     "iopub.status.idle": "2024-05-17T05:49:34.211341Z",
     "shell.execute_reply": "2024-05-17T05:49:34.210012Z"
    },
    "papermill": {
     "duration": 0.037533,
     "end_time": "2024-05-17T05:49:34.214202",
     "exception": false,
     "start_time": "2024-05-17T05:49:34.176669",
     "status": "completed"
    },
    "tags": []
   },
   "outputs": [],
   "source": [
    "test_data['luxury_sales'] = test_data['luxury_sales'].fillna(value=test_data['luxury_sales'].mean())\n",
    "test_data['fresh_sales'] = test_data['fresh_sales'].fillna(value=test_data['fresh_sales'].mean()) \n",
    "test_data['dry_sales'] = test_data['dry_sales'].fillna(value=test_data['dry_sales'].mean()) "
   ]
  },
  {
   "cell_type": "code",
   "execution_count": 37,
   "id": "77133f5b",
   "metadata": {
    "execution": {
     "iopub.execute_input": "2024-05-17T05:49:34.256898Z",
     "iopub.status.busy": "2024-05-17T05:49:34.256342Z",
     "iopub.status.idle": "2024-05-17T05:49:34.270195Z",
     "shell.execute_reply": "2024-05-17T05:49:34.269008Z"
    },
    "papermill": {
     "duration": 0.038863,
     "end_time": "2024-05-17T05:49:34.273026",
     "exception": false,
     "start_time": "2024-05-17T05:49:34.234163",
     "status": "completed"
    },
    "tags": []
   },
   "outputs": [
    {
     "data": {
      "text/plain": [
       "outlet_city     0\n",
       "luxury_sales    0\n",
       "fresh_sales     0\n",
       "dry_sales       0\n",
       "dtype: int64"
      ]
     },
     "execution_count": 37,
     "metadata": {},
     "output_type": "execute_result"
    }
   ],
   "source": [
    "test_data.isnull().sum()"
   ]
  },
  {
   "cell_type": "markdown",
   "id": "b2234219",
   "metadata": {
    "papermill": {
     "duration": 0.02197,
     "end_time": "2024-05-17T05:49:34.317666",
     "exception": false,
     "start_time": "2024-05-17T05:49:34.295696",
     "status": "completed"
    },
    "tags": []
   },
   "source": [
    "### Handle duplicates"
   ]
  },
  {
   "cell_type": "code",
   "execution_count": 38,
   "id": "05004320",
   "metadata": {
    "execution": {
     "iopub.execute_input": "2024-05-17T05:49:34.365435Z",
     "iopub.status.busy": "2024-05-17T05:49:34.364682Z",
     "iopub.status.idle": "2024-05-17T05:49:34.435346Z",
     "shell.execute_reply": "2024-05-17T05:49:34.433719Z"
    },
    "papermill": {
     "duration": 0.098076,
     "end_time": "2024-05-17T05:49:34.438121",
     "exception": false,
     "start_time": "2024-05-17T05:49:34.340045",
     "status": "completed"
    },
    "tags": []
   },
   "outputs": [
    {
     "data": {
      "text/plain": [
       "outlet_city\n",
       "Batticaloa                40866\n",
       "Colombo                   40889\n",
       "Dehiwala-Mount Lavinia    36675\n",
       "Galle                     40884\n",
       "Gampaha                   40116\n",
       "Homagama                  36478\n",
       "Jaffna                    40548\n",
       "Kaduwela                  36502\n",
       "Kalmunai                  40590\n",
       "Kandy                     40393\n",
       "Katunayake                40518\n",
       "Kelaniya                  35818\n",
       "Kotte                     36633\n",
       "Moratuwa                  36247\n",
       "Negombo                   40558\n",
       "Nuwara Eliya              36926\n",
       "Panadura                  36552\n",
       "Peliyagoda                36986\n",
       "Trincomalee               40398\n",
       "Wattala                   36518\n",
       "Name: count, dtype: int64"
      ]
     },
     "execution_count": 38,
     "metadata": {},
     "output_type": "execute_result"
    }
   ],
   "source": [
    "train_data['outlet_city'].value_counts().sort_index()"
   ]
  },
  {
   "cell_type": "code",
   "execution_count": 39,
   "id": "47f33b2f",
   "metadata": {
    "execution": {
     "iopub.execute_input": "2024-05-17T05:49:34.485835Z",
     "iopub.status.busy": "2024-05-17T05:49:34.485300Z",
     "iopub.status.idle": "2024-05-17T05:49:34.499728Z",
     "shell.execute_reply": "2024-05-17T05:49:34.498212Z"
    },
    "papermill": {
     "duration": 0.041738,
     "end_time": "2024-05-17T05:49:34.502943",
     "exception": false,
     "start_time": "2024-05-17T05:49:34.461205",
     "status": "completed"
    },
    "tags": []
   },
   "outputs": [
    {
     "data": {
      "text/plain": [
       "outlet_city\n",
       "Anuradhapura              1645\n",
       "Batticaloa                1671\n",
       "Colombo                   2092\n",
       "Dehiwala-Mount Lavinia    1981\n",
       "Galle                      456\n",
       "Gampaha                   2198\n",
       "Homagama                  1930\n",
       "Jaffna                    2226\n",
       "Kaduwela                  1943\n",
       "Kalmunai                  1634\n",
       "Kandy                     2101\n",
       "Katunayake                2157\n",
       "Kelaniya                  1934\n",
       "Kotte                      379\n",
       "Madawachiya               1499\n",
       "MoraTuwa                   340\n",
       "Moratuwa                  1563\n",
       "Negombo                   2129\n",
       "Nuwara Eliya              1963\n",
       "Panadura                  1810\n",
       "PeliyagodA                 202\n",
       "Peliyagoda                1839\n",
       "Trincomale                1814\n",
       "Trincomalee                258\n",
       "Wattala                   1938\n",
       "batticaloa                 448\n",
       "kalmunai                   599\n",
       "Name: count, dtype: int64"
      ]
     },
     "execution_count": 39,
     "metadata": {},
     "output_type": "execute_result"
    }
   ],
   "source": [
    "test_data['outlet_city'].value_counts().sort_index()"
   ]
  },
  {
   "cell_type": "code",
   "execution_count": 40,
   "id": "4cef3bda",
   "metadata": {
    "execution": {
     "iopub.execute_input": "2024-05-17T05:49:34.548518Z",
     "iopub.status.busy": "2024-05-17T05:49:34.547311Z",
     "iopub.status.idle": "2024-05-17T05:49:34.579091Z",
     "shell.execute_reply": "2024-05-17T05:49:34.577956Z"
    },
    "papermill": {
     "duration": 0.057095,
     "end_time": "2024-05-17T05:49:34.581867",
     "exception": false,
     "start_time": "2024-05-17T05:49:34.524772",
     "status": "completed"
    },
    "tags": []
   },
   "outputs": [],
   "source": [
    "test_data['outlet_city'] = test_data['outlet_city'].replace('batticaloa','Batticaloa')\n",
    "test_data['outlet_city'] = test_data['outlet_city'].replace('MoraTuwa','Moratuwa')\n",
    "test_data['outlet_city'] = test_data['outlet_city'].replace('PeliyagodA','Peliyagoda')\n",
    "test_data['outlet_city'] = test_data['outlet_city'].replace('kalmunai','Kalmunai')\n",
    "test_data['outlet_city'] = test_data['outlet_city'].replace('Trincomale','Trincomalee')"
   ]
  },
  {
   "cell_type": "code",
   "execution_count": 41,
   "id": "8b46dbf9",
   "metadata": {
    "execution": {
     "iopub.execute_input": "2024-05-17T05:49:34.626232Z",
     "iopub.status.busy": "2024-05-17T05:49:34.625725Z",
     "iopub.status.idle": "2024-05-17T05:49:34.639518Z",
     "shell.execute_reply": "2024-05-17T05:49:34.638069Z"
    },
    "papermill": {
     "duration": 0.039801,
     "end_time": "2024-05-17T05:49:34.642208",
     "exception": false,
     "start_time": "2024-05-17T05:49:34.602407",
     "status": "completed"
    },
    "tags": []
   },
   "outputs": [
    {
     "data": {
      "text/plain": [
       "outlet_city\n",
       "Anuradhapura              1645\n",
       "Batticaloa                2119\n",
       "Colombo                   2092\n",
       "Dehiwala-Mount Lavinia    1981\n",
       "Galle                      456\n",
       "Gampaha                   2198\n",
       "Homagama                  1930\n",
       "Jaffna                    2226\n",
       "Kaduwela                  1943\n",
       "Kalmunai                  2233\n",
       "Kandy                     2101\n",
       "Katunayake                2157\n",
       "Kelaniya                  1934\n",
       "Kotte                      379\n",
       "Madawachiya               1499\n",
       "Moratuwa                  1903\n",
       "Negombo                   2129\n",
       "Nuwara Eliya              1963\n",
       "Panadura                  1810\n",
       "Peliyagoda                2041\n",
       "Trincomalee               2072\n",
       "Wattala                   1938\n",
       "Name: count, dtype: int64"
      ]
     },
     "execution_count": 41,
     "metadata": {},
     "output_type": "execute_result"
    }
   ],
   "source": [
    "test_data['outlet_city'].value_counts().sort_index()"
   ]
  },
  {
   "cell_type": "markdown",
   "id": "8cd91131",
   "metadata": {
    "papermill": {
     "duration": 0.020346,
     "end_time": "2024-05-17T05:49:34.684404",
     "exception": false,
     "start_time": "2024-05-17T05:49:34.664058",
     "status": "completed"
    },
    "tags": []
   },
   "source": [
    "#### Feature Engineering"
   ]
  },
  {
   "cell_type": "code",
   "execution_count": 42,
   "id": "d443a6ff",
   "metadata": {
    "execution": {
     "iopub.execute_input": "2024-05-17T05:49:34.728747Z",
     "iopub.status.busy": "2024-05-17T05:49:34.728169Z",
     "iopub.status.idle": "2024-05-17T05:49:34.764490Z",
     "shell.execute_reply": "2024-05-17T05:49:34.763228Z"
    },
    "papermill": {
     "duration": 0.06241,
     "end_time": "2024-05-17T05:49:34.767288",
     "exception": false,
     "start_time": "2024-05-17T05:49:34.704878",
     "status": "completed"
    },
    "tags": []
   },
   "outputs": [
    {
     "data": {
      "text/html": [
       "<div>\n",
       "<style scoped>\n",
       "    .dataframe tbody tr th:only-of-type {\n",
       "        vertical-align: middle;\n",
       "    }\n",
       "\n",
       "    .dataframe tbody tr th {\n",
       "        vertical-align: top;\n",
       "    }\n",
       "\n",
       "    .dataframe thead th {\n",
       "        text-align: right;\n",
       "    }\n",
       "</style>\n",
       "<table border=\"1\" class=\"dataframe\">\n",
       "  <thead>\n",
       "    <tr style=\"text-align: right;\">\n",
       "      <th></th>\n",
       "      <th>luxury_sales</th>\n",
       "      <th>fresh_sales</th>\n",
       "      <th>dry_sales</th>\n",
       "      <th>outlet_city_Anuradhapura</th>\n",
       "      <th>outlet_city_Batticaloa</th>\n",
       "      <th>outlet_city_Colombo</th>\n",
       "      <th>outlet_city_Dehiwala-Mount Lavinia</th>\n",
       "      <th>outlet_city_Galle</th>\n",
       "      <th>outlet_city_Gampaha</th>\n",
       "      <th>outlet_city_Homagama</th>\n",
       "      <th>...</th>\n",
       "      <th>outlet_city_Kelaniya</th>\n",
       "      <th>outlet_city_Kotte</th>\n",
       "      <th>outlet_city_Madawachiya</th>\n",
       "      <th>outlet_city_Moratuwa</th>\n",
       "      <th>outlet_city_Negombo</th>\n",
       "      <th>outlet_city_Nuwara Eliya</th>\n",
       "      <th>outlet_city_Panadura</th>\n",
       "      <th>outlet_city_Peliyagoda</th>\n",
       "      <th>outlet_city_Trincomalee</th>\n",
       "      <th>outlet_city_Wattala</th>\n",
       "    </tr>\n",
       "  </thead>\n",
       "  <tbody>\n",
       "    <tr>\n",
       "      <th>33574</th>\n",
       "      <td>2686.50</td>\n",
       "      <td>3582.00</td>\n",
       "      <td>12537.00</td>\n",
       "      <td>False</td>\n",
       "      <td>True</td>\n",
       "      <td>False</td>\n",
       "      <td>False</td>\n",
       "      <td>False</td>\n",
       "      <td>False</td>\n",
       "      <td>False</td>\n",
       "      <td>...</td>\n",
       "      <td>False</td>\n",
       "      <td>False</td>\n",
       "      <td>False</td>\n",
       "      <td>False</td>\n",
       "      <td>False</td>\n",
       "      <td>False</td>\n",
       "      <td>False</td>\n",
       "      <td>False</td>\n",
       "      <td>False</td>\n",
       "      <td>False</td>\n",
       "    </tr>\n",
       "    <tr>\n",
       "      <th>10089</th>\n",
       "      <td>1717.56</td>\n",
       "      <td>2576.34</td>\n",
       "      <td>9446.58</td>\n",
       "      <td>False</td>\n",
       "      <td>True</td>\n",
       "      <td>False</td>\n",
       "      <td>False</td>\n",
       "      <td>False</td>\n",
       "      <td>False</td>\n",
       "      <td>False</td>\n",
       "      <td>...</td>\n",
       "      <td>False</td>\n",
       "      <td>False</td>\n",
       "      <td>False</td>\n",
       "      <td>False</td>\n",
       "      <td>False</td>\n",
       "      <td>False</td>\n",
       "      <td>False</td>\n",
       "      <td>False</td>\n",
       "      <td>False</td>\n",
       "      <td>False</td>\n",
       "    </tr>\n",
       "    <tr>\n",
       "      <th>38329</th>\n",
       "      <td>854.04</td>\n",
       "      <td>1242.24</td>\n",
       "      <td>5201.88</td>\n",
       "      <td>False</td>\n",
       "      <td>True</td>\n",
       "      <td>False</td>\n",
       "      <td>False</td>\n",
       "      <td>False</td>\n",
       "      <td>False</td>\n",
       "      <td>False</td>\n",
       "      <td>...</td>\n",
       "      <td>False</td>\n",
       "      <td>False</td>\n",
       "      <td>False</td>\n",
       "      <td>False</td>\n",
       "      <td>False</td>\n",
       "      <td>False</td>\n",
       "      <td>False</td>\n",
       "      <td>False</td>\n",
       "      <td>False</td>\n",
       "      <td>False</td>\n",
       "    </tr>\n",
       "    <tr>\n",
       "      <th>11376</th>\n",
       "      <td>1638.12</td>\n",
       "      <td>2320.67</td>\n",
       "      <td>9282.68</td>\n",
       "      <td>False</td>\n",
       "      <td>True</td>\n",
       "      <td>False</td>\n",
       "      <td>False</td>\n",
       "      <td>False</td>\n",
       "      <td>False</td>\n",
       "      <td>False</td>\n",
       "      <td>...</td>\n",
       "      <td>False</td>\n",
       "      <td>False</td>\n",
       "      <td>False</td>\n",
       "      <td>False</td>\n",
       "      <td>False</td>\n",
       "      <td>False</td>\n",
       "      <td>False</td>\n",
       "      <td>False</td>\n",
       "      <td>False</td>\n",
       "      <td>False</td>\n",
       "    </tr>\n",
       "    <tr>\n",
       "      <th>12410</th>\n",
       "      <td>1039.09</td>\n",
       "      <td>1518.67</td>\n",
       "      <td>5435.24</td>\n",
       "      <td>False</td>\n",
       "      <td>True</td>\n",
       "      <td>False</td>\n",
       "      <td>False</td>\n",
       "      <td>False</td>\n",
       "      <td>False</td>\n",
       "      <td>False</td>\n",
       "      <td>...</td>\n",
       "      <td>False</td>\n",
       "      <td>False</td>\n",
       "      <td>False</td>\n",
       "      <td>False</td>\n",
       "      <td>False</td>\n",
       "      <td>False</td>\n",
       "      <td>False</td>\n",
       "      <td>False</td>\n",
       "      <td>False</td>\n",
       "      <td>False</td>\n",
       "    </tr>\n",
       "  </tbody>\n",
       "</table>\n",
       "<p>5 rows × 25 columns</p>\n",
       "</div>"
      ],
      "text/plain": [
       "       luxury_sales  fresh_sales  dry_sales  outlet_city_Anuradhapura  \\\n",
       "33574       2686.50      3582.00   12537.00                     False   \n",
       "10089       1717.56      2576.34    9446.58                     False   \n",
       "38329        854.04      1242.24    5201.88                     False   \n",
       "11376       1638.12      2320.67    9282.68                     False   \n",
       "12410       1039.09      1518.67    5435.24                     False   \n",
       "\n",
       "       outlet_city_Batticaloa  outlet_city_Colombo  \\\n",
       "33574                    True                False   \n",
       "10089                    True                False   \n",
       "38329                    True                False   \n",
       "11376                    True                False   \n",
       "12410                    True                False   \n",
       "\n",
       "       outlet_city_Dehiwala-Mount Lavinia  outlet_city_Galle  \\\n",
       "33574                               False              False   \n",
       "10089                               False              False   \n",
       "38329                               False              False   \n",
       "11376                               False              False   \n",
       "12410                               False              False   \n",
       "\n",
       "       outlet_city_Gampaha  outlet_city_Homagama  ...  outlet_city_Kelaniya  \\\n",
       "33574                False                 False  ...                 False   \n",
       "10089                False                 False  ...                 False   \n",
       "38329                False                 False  ...                 False   \n",
       "11376                False                 False  ...                 False   \n",
       "12410                False                 False  ...                 False   \n",
       "\n",
       "       outlet_city_Kotte  outlet_city_Madawachiya  outlet_city_Moratuwa  \\\n",
       "33574              False                    False                 False   \n",
       "10089              False                    False                 False   \n",
       "38329              False                    False                 False   \n",
       "11376              False                    False                 False   \n",
       "12410              False                    False                 False   \n",
       "\n",
       "       outlet_city_Negombo  outlet_city_Nuwara Eliya  outlet_city_Panadura  \\\n",
       "33574                False                     False                 False   \n",
       "10089                False                     False                 False   \n",
       "38329                False                     False                 False   \n",
       "11376                False                     False                 False   \n",
       "12410                False                     False                 False   \n",
       "\n",
       "       outlet_city_Peliyagoda  outlet_city_Trincomalee  outlet_city_Wattala  \n",
       "33574                   False                    False                False  \n",
       "10089                   False                    False                False  \n",
       "38329                   False                    False                False  \n",
       "11376                   False                    False                False  \n",
       "12410                   False                    False                False  \n",
       "\n",
       "[5 rows x 25 columns]"
      ]
     },
     "execution_count": 42,
     "metadata": {},
     "output_type": "execute_result"
    }
   ],
   "source": [
    "test_data_f = pd.get_dummies(test_data)\n",
    "test_data_f.head()"
   ]
  },
  {
   "cell_type": "markdown",
   "id": "552602e4",
   "metadata": {
    "papermill": {
     "duration": 0.020967,
     "end_time": "2024-05-17T05:49:34.808853",
     "exception": false,
     "start_time": "2024-05-17T05:49:34.787886",
     "status": "completed"
    },
    "tags": []
   },
   "source": [
    "### Drop Unseen features"
   ]
  },
  {
   "cell_type": "code",
   "execution_count": 43,
   "id": "ee6eae03",
   "metadata": {
    "execution": {
     "iopub.execute_input": "2024-05-17T05:49:34.853666Z",
     "iopub.status.busy": "2024-05-17T05:49:34.853198Z",
     "iopub.status.idle": "2024-05-17T05:49:34.881369Z",
     "shell.execute_reply": "2024-05-17T05:49:34.880153Z"
    },
    "papermill": {
     "duration": 0.054094,
     "end_time": "2024-05-17T05:49:34.883920",
     "exception": false,
     "start_time": "2024-05-17T05:49:34.829826",
     "status": "completed"
    },
    "tags": []
   },
   "outputs": [
    {
     "data": {
      "text/html": [
       "<div>\n",
       "<style scoped>\n",
       "    .dataframe tbody tr th:only-of-type {\n",
       "        vertical-align: middle;\n",
       "    }\n",
       "\n",
       "    .dataframe tbody tr th {\n",
       "        vertical-align: top;\n",
       "    }\n",
       "\n",
       "    .dataframe thead th {\n",
       "        text-align: right;\n",
       "    }\n",
       "</style>\n",
       "<table border=\"1\" class=\"dataframe\">\n",
       "  <thead>\n",
       "    <tr style=\"text-align: right;\">\n",
       "      <th></th>\n",
       "      <th>luxury_sales</th>\n",
       "      <th>fresh_sales</th>\n",
       "      <th>dry_sales</th>\n",
       "      <th>outlet_city_Batticaloa</th>\n",
       "      <th>outlet_city_Colombo</th>\n",
       "      <th>outlet_city_Dehiwala-Mount Lavinia</th>\n",
       "      <th>outlet_city_Galle</th>\n",
       "      <th>outlet_city_Gampaha</th>\n",
       "      <th>outlet_city_Homagama</th>\n",
       "      <th>outlet_city_Jaffna</th>\n",
       "      <th>...</th>\n",
       "      <th>outlet_city_Katunayake</th>\n",
       "      <th>outlet_city_Kelaniya</th>\n",
       "      <th>outlet_city_Kotte</th>\n",
       "      <th>outlet_city_Moratuwa</th>\n",
       "      <th>outlet_city_Negombo</th>\n",
       "      <th>outlet_city_Nuwara Eliya</th>\n",
       "      <th>outlet_city_Panadura</th>\n",
       "      <th>outlet_city_Peliyagoda</th>\n",
       "      <th>outlet_city_Trincomalee</th>\n",
       "      <th>outlet_city_Wattala</th>\n",
       "    </tr>\n",
       "  </thead>\n",
       "  <tbody>\n",
       "    <tr>\n",
       "      <th>33574</th>\n",
       "      <td>2686.50</td>\n",
       "      <td>3582.00</td>\n",
       "      <td>12537.00</td>\n",
       "      <td>True</td>\n",
       "      <td>False</td>\n",
       "      <td>False</td>\n",
       "      <td>False</td>\n",
       "      <td>False</td>\n",
       "      <td>False</td>\n",
       "      <td>False</td>\n",
       "      <td>...</td>\n",
       "      <td>False</td>\n",
       "      <td>False</td>\n",
       "      <td>False</td>\n",
       "      <td>False</td>\n",
       "      <td>False</td>\n",
       "      <td>False</td>\n",
       "      <td>False</td>\n",
       "      <td>False</td>\n",
       "      <td>False</td>\n",
       "      <td>False</td>\n",
       "    </tr>\n",
       "    <tr>\n",
       "      <th>10089</th>\n",
       "      <td>1717.56</td>\n",
       "      <td>2576.34</td>\n",
       "      <td>9446.58</td>\n",
       "      <td>True</td>\n",
       "      <td>False</td>\n",
       "      <td>False</td>\n",
       "      <td>False</td>\n",
       "      <td>False</td>\n",
       "      <td>False</td>\n",
       "      <td>False</td>\n",
       "      <td>...</td>\n",
       "      <td>False</td>\n",
       "      <td>False</td>\n",
       "      <td>False</td>\n",
       "      <td>False</td>\n",
       "      <td>False</td>\n",
       "      <td>False</td>\n",
       "      <td>False</td>\n",
       "      <td>False</td>\n",
       "      <td>False</td>\n",
       "      <td>False</td>\n",
       "    </tr>\n",
       "    <tr>\n",
       "      <th>38329</th>\n",
       "      <td>854.04</td>\n",
       "      <td>1242.24</td>\n",
       "      <td>5201.88</td>\n",
       "      <td>True</td>\n",
       "      <td>False</td>\n",
       "      <td>False</td>\n",
       "      <td>False</td>\n",
       "      <td>False</td>\n",
       "      <td>False</td>\n",
       "      <td>False</td>\n",
       "      <td>...</td>\n",
       "      <td>False</td>\n",
       "      <td>False</td>\n",
       "      <td>False</td>\n",
       "      <td>False</td>\n",
       "      <td>False</td>\n",
       "      <td>False</td>\n",
       "      <td>False</td>\n",
       "      <td>False</td>\n",
       "      <td>False</td>\n",
       "      <td>False</td>\n",
       "    </tr>\n",
       "    <tr>\n",
       "      <th>11376</th>\n",
       "      <td>1638.12</td>\n",
       "      <td>2320.67</td>\n",
       "      <td>9282.68</td>\n",
       "      <td>True</td>\n",
       "      <td>False</td>\n",
       "      <td>False</td>\n",
       "      <td>False</td>\n",
       "      <td>False</td>\n",
       "      <td>False</td>\n",
       "      <td>False</td>\n",
       "      <td>...</td>\n",
       "      <td>False</td>\n",
       "      <td>False</td>\n",
       "      <td>False</td>\n",
       "      <td>False</td>\n",
       "      <td>False</td>\n",
       "      <td>False</td>\n",
       "      <td>False</td>\n",
       "      <td>False</td>\n",
       "      <td>False</td>\n",
       "      <td>False</td>\n",
       "    </tr>\n",
       "    <tr>\n",
       "      <th>12410</th>\n",
       "      <td>1039.09</td>\n",
       "      <td>1518.67</td>\n",
       "      <td>5435.24</td>\n",
       "      <td>True</td>\n",
       "      <td>False</td>\n",
       "      <td>False</td>\n",
       "      <td>False</td>\n",
       "      <td>False</td>\n",
       "      <td>False</td>\n",
       "      <td>False</td>\n",
       "      <td>...</td>\n",
       "      <td>False</td>\n",
       "      <td>False</td>\n",
       "      <td>False</td>\n",
       "      <td>False</td>\n",
       "      <td>False</td>\n",
       "      <td>False</td>\n",
       "      <td>False</td>\n",
       "      <td>False</td>\n",
       "      <td>False</td>\n",
       "      <td>False</td>\n",
       "    </tr>\n",
       "  </tbody>\n",
       "</table>\n",
       "<p>5 rows × 23 columns</p>\n",
       "</div>"
      ],
      "text/plain": [
       "       luxury_sales  fresh_sales  dry_sales  outlet_city_Batticaloa  \\\n",
       "33574       2686.50      3582.00   12537.00                    True   \n",
       "10089       1717.56      2576.34    9446.58                    True   \n",
       "38329        854.04      1242.24    5201.88                    True   \n",
       "11376       1638.12      2320.67    9282.68                    True   \n",
       "12410       1039.09      1518.67    5435.24                    True   \n",
       "\n",
       "       outlet_city_Colombo  outlet_city_Dehiwala-Mount Lavinia  \\\n",
       "33574                False                               False   \n",
       "10089                False                               False   \n",
       "38329                False                               False   \n",
       "11376                False                               False   \n",
       "12410                False                               False   \n",
       "\n",
       "       outlet_city_Galle  outlet_city_Gampaha  outlet_city_Homagama  \\\n",
       "33574              False                False                 False   \n",
       "10089              False                False                 False   \n",
       "38329              False                False                 False   \n",
       "11376              False                False                 False   \n",
       "12410              False                False                 False   \n",
       "\n",
       "       outlet_city_Jaffna  ...  outlet_city_Katunayake  outlet_city_Kelaniya  \\\n",
       "33574               False  ...                   False                 False   \n",
       "10089               False  ...                   False                 False   \n",
       "38329               False  ...                   False                 False   \n",
       "11376               False  ...                   False                 False   \n",
       "12410               False  ...                   False                 False   \n",
       "\n",
       "       outlet_city_Kotte  outlet_city_Moratuwa  outlet_city_Negombo  \\\n",
       "33574              False                 False                False   \n",
       "10089              False                 False                False   \n",
       "38329              False                 False                False   \n",
       "11376              False                 False                False   \n",
       "12410              False                 False                False   \n",
       "\n",
       "       outlet_city_Nuwara Eliya  outlet_city_Panadura  outlet_city_Peliyagoda  \\\n",
       "33574                     False                 False                   False   \n",
       "10089                     False                 False                   False   \n",
       "38329                     False                 False                   False   \n",
       "11376                     False                 False                   False   \n",
       "12410                     False                 False                   False   \n",
       "\n",
       "       outlet_city_Trincomalee  outlet_city_Wattala  \n",
       "33574                    False                False  \n",
       "10089                    False                False  \n",
       "38329                    False                False  \n",
       "11376                    False                False  \n",
       "12410                    False                False  \n",
       "\n",
       "[5 rows x 23 columns]"
      ]
     },
     "execution_count": 43,
     "metadata": {},
     "output_type": "execute_result"
    }
   ],
   "source": [
    "X_new = test_data_f.drop(['outlet_city_Anuradhapura','outlet_city_Madawachiya'],axis=1)\n",
    "X_new.head()"
   ]
  },
  {
   "cell_type": "code",
   "execution_count": 44,
   "id": "9d4c3a4a",
   "metadata": {
    "execution": {
     "iopub.execute_input": "2024-05-17T05:49:34.926868Z",
     "iopub.status.busy": "2024-05-17T05:49:34.926450Z",
     "iopub.status.idle": "2024-05-17T05:49:34.933932Z",
     "shell.execute_reply": "2024-05-17T05:49:34.931960Z"
    },
    "papermill": {
     "duration": 0.03178,
     "end_time": "2024-05-17T05:49:34.936754",
     "exception": false,
     "start_time": "2024-05-17T05:49:34.904974",
     "status": "completed"
    },
    "tags": []
   },
   "outputs": [],
   "source": [
    "X_new = X_new.astype('float64')"
   ]
  },
  {
   "cell_type": "markdown",
   "id": "20aaeada",
   "metadata": {
    "papermill": {
     "duration": 0.020079,
     "end_time": "2024-05-17T05:49:34.977884",
     "exception": false,
     "start_time": "2024-05-17T05:49:34.957805",
     "status": "completed"
    },
    "tags": []
   },
   "source": [
    "### Scaling variables"
   ]
  },
  {
   "cell_type": "code",
   "execution_count": 45,
   "id": "e5c53d9f",
   "metadata": {
    "execution": {
     "iopub.execute_input": "2024-05-17T05:49:35.021910Z",
     "iopub.status.busy": "2024-05-17T05:49:35.021506Z",
     "iopub.status.idle": "2024-05-17T05:49:35.084285Z",
     "shell.execute_reply": "2024-05-17T05:49:35.083107Z"
    },
    "papermill": {
     "duration": 0.089804,
     "end_time": "2024-05-17T05:49:35.087692",
     "exception": false,
     "start_time": "2024-05-17T05:49:34.997888",
     "status": "completed"
    },
    "tags": []
   },
   "outputs": [
    {
     "data": {
      "text/html": [
       "<div>\n",
       "<style scoped>\n",
       "    .dataframe tbody tr th:only-of-type {\n",
       "        vertical-align: middle;\n",
       "    }\n",
       "\n",
       "    .dataframe tbody tr th {\n",
       "        vertical-align: top;\n",
       "    }\n",
       "\n",
       "    .dataframe thead th {\n",
       "        text-align: right;\n",
       "    }\n",
       "</style>\n",
       "<table border=\"1\" class=\"dataframe\">\n",
       "  <thead>\n",
       "    <tr style=\"text-align: right;\">\n",
       "      <th></th>\n",
       "      <th>luxury_sales</th>\n",
       "      <th>fresh_sales</th>\n",
       "      <th>dry_sales</th>\n",
       "      <th>outlet_city_Batticaloa</th>\n",
       "      <th>outlet_city_Colombo</th>\n",
       "      <th>outlet_city_Dehiwala-Mount Lavinia</th>\n",
       "      <th>outlet_city_Galle</th>\n",
       "      <th>outlet_city_Gampaha</th>\n",
       "      <th>outlet_city_Homagama</th>\n",
       "      <th>outlet_city_Jaffna</th>\n",
       "      <th>...</th>\n",
       "      <th>outlet_city_Katunayake</th>\n",
       "      <th>outlet_city_Kelaniya</th>\n",
       "      <th>outlet_city_Kotte</th>\n",
       "      <th>outlet_city_Moratuwa</th>\n",
       "      <th>outlet_city_Negombo</th>\n",
       "      <th>outlet_city_Nuwara Eliya</th>\n",
       "      <th>outlet_city_Panadura</th>\n",
       "      <th>outlet_city_Peliyagoda</th>\n",
       "      <th>outlet_city_Trincomalee</th>\n",
       "      <th>outlet_city_Wattala</th>\n",
       "    </tr>\n",
       "  </thead>\n",
       "  <tbody>\n",
       "    <tr>\n",
       "      <th>33574</th>\n",
       "      <td>0.756537</td>\n",
       "      <td>-0.257025</td>\n",
       "      <td>2.300092</td>\n",
       "      <td>1.0</td>\n",
       "      <td>0.0</td>\n",
       "      <td>0.0</td>\n",
       "      <td>0.0</td>\n",
       "      <td>0.0</td>\n",
       "      <td>0.0</td>\n",
       "      <td>0.0</td>\n",
       "      <td>...</td>\n",
       "      <td>0.0</td>\n",
       "      <td>0.0</td>\n",
       "      <td>0.0</td>\n",
       "      <td>0.0</td>\n",
       "      <td>0.0</td>\n",
       "      <td>0.0</td>\n",
       "      <td>0.0</td>\n",
       "      <td>0.0</td>\n",
       "      <td>0.0</td>\n",
       "      <td>0.0</td>\n",
       "    </tr>\n",
       "    <tr>\n",
       "      <th>10089</th>\n",
       "      <td>-0.208780</td>\n",
       "      <td>-0.557282</td>\n",
       "      <td>1.394059</td>\n",
       "      <td>1.0</td>\n",
       "      <td>0.0</td>\n",
       "      <td>0.0</td>\n",
       "      <td>0.0</td>\n",
       "      <td>0.0</td>\n",
       "      <td>0.0</td>\n",
       "      <td>0.0</td>\n",
       "      <td>...</td>\n",
       "      <td>0.0</td>\n",
       "      <td>0.0</td>\n",
       "      <td>0.0</td>\n",
       "      <td>0.0</td>\n",
       "      <td>0.0</td>\n",
       "      <td>0.0</td>\n",
       "      <td>0.0</td>\n",
       "      <td>0.0</td>\n",
       "      <td>0.0</td>\n",
       "      <td>0.0</td>\n",
       "    </tr>\n",
       "    <tr>\n",
       "      <th>38329</th>\n",
       "      <td>-1.069072</td>\n",
       "      <td>-0.955602</td>\n",
       "      <td>0.149621</td>\n",
       "      <td>1.0</td>\n",
       "      <td>0.0</td>\n",
       "      <td>0.0</td>\n",
       "      <td>0.0</td>\n",
       "      <td>0.0</td>\n",
       "      <td>0.0</td>\n",
       "      <td>0.0</td>\n",
       "      <td>...</td>\n",
       "      <td>0.0</td>\n",
       "      <td>0.0</td>\n",
       "      <td>0.0</td>\n",
       "      <td>0.0</td>\n",
       "      <td>0.0</td>\n",
       "      <td>0.0</td>\n",
       "      <td>0.0</td>\n",
       "      <td>0.0</td>\n",
       "      <td>0.0</td>\n",
       "      <td>0.0</td>\n",
       "    </tr>\n",
       "    <tr>\n",
       "      <th>11376</th>\n",
       "      <td>-0.287923</td>\n",
       "      <td>-0.633617</td>\n",
       "      <td>1.346008</td>\n",
       "      <td>1.0</td>\n",
       "      <td>0.0</td>\n",
       "      <td>0.0</td>\n",
       "      <td>0.0</td>\n",
       "      <td>0.0</td>\n",
       "      <td>0.0</td>\n",
       "      <td>0.0</td>\n",
       "      <td>...</td>\n",
       "      <td>0.0</td>\n",
       "      <td>0.0</td>\n",
       "      <td>0.0</td>\n",
       "      <td>0.0</td>\n",
       "      <td>0.0</td>\n",
       "      <td>0.0</td>\n",
       "      <td>0.0</td>\n",
       "      <td>0.0</td>\n",
       "      <td>0.0</td>\n",
       "      <td>0.0</td>\n",
       "    </tr>\n",
       "    <tr>\n",
       "      <th>12410</th>\n",
       "      <td>-0.884714</td>\n",
       "      <td>-0.873069</td>\n",
       "      <td>0.218036</td>\n",
       "      <td>1.0</td>\n",
       "      <td>0.0</td>\n",
       "      <td>0.0</td>\n",
       "      <td>0.0</td>\n",
       "      <td>0.0</td>\n",
       "      <td>0.0</td>\n",
       "      <td>0.0</td>\n",
       "      <td>...</td>\n",
       "      <td>0.0</td>\n",
       "      <td>0.0</td>\n",
       "      <td>0.0</td>\n",
       "      <td>0.0</td>\n",
       "      <td>0.0</td>\n",
       "      <td>0.0</td>\n",
       "      <td>0.0</td>\n",
       "      <td>0.0</td>\n",
       "      <td>0.0</td>\n",
       "      <td>0.0</td>\n",
       "    </tr>\n",
       "    <tr>\n",
       "      <th>...</th>\n",
       "      <td>...</td>\n",
       "      <td>...</td>\n",
       "      <td>...</td>\n",
       "      <td>...</td>\n",
       "      <td>...</td>\n",
       "      <td>...</td>\n",
       "      <td>...</td>\n",
       "      <td>...</td>\n",
       "      <td>...</td>\n",
       "      <td>...</td>\n",
       "      <td>...</td>\n",
       "      <td>...</td>\n",
       "      <td>...</td>\n",
       "      <td>...</td>\n",
       "      <td>...</td>\n",
       "      <td>...</td>\n",
       "      <td>...</td>\n",
       "      <td>...</td>\n",
       "      <td>...</td>\n",
       "      <td>...</td>\n",
       "      <td>...</td>\n",
       "    </tr>\n",
       "    <tr>\n",
       "      <th>33698</th>\n",
       "      <td>1.981918</td>\n",
       "      <td>-0.084076</td>\n",
       "      <td>-0.227226</td>\n",
       "      <td>0.0</td>\n",
       "      <td>0.0</td>\n",
       "      <td>0.0</td>\n",
       "      <td>0.0</td>\n",
       "      <td>0.0</td>\n",
       "      <td>0.0</td>\n",
       "      <td>0.0</td>\n",
       "      <td>...</td>\n",
       "      <td>0.0</td>\n",
       "      <td>0.0</td>\n",
       "      <td>0.0</td>\n",
       "      <td>0.0</td>\n",
       "      <td>0.0</td>\n",
       "      <td>0.0</td>\n",
       "      <td>0.0</td>\n",
       "      <td>0.0</td>\n",
       "      <td>0.0</td>\n",
       "      <td>1.0</td>\n",
       "    </tr>\n",
       "    <tr>\n",
       "      <th>4185</th>\n",
       "      <td>1.260067</td>\n",
       "      <td>-0.429549</td>\n",
       "      <td>-0.467172</td>\n",
       "      <td>0.0</td>\n",
       "      <td>0.0</td>\n",
       "      <td>0.0</td>\n",
       "      <td>0.0</td>\n",
       "      <td>0.0</td>\n",
       "      <td>0.0</td>\n",
       "      <td>0.0</td>\n",
       "      <td>...</td>\n",
       "      <td>0.0</td>\n",
       "      <td>0.0</td>\n",
       "      <td>0.0</td>\n",
       "      <td>0.0</td>\n",
       "      <td>0.0</td>\n",
       "      <td>0.0</td>\n",
       "      <td>0.0</td>\n",
       "      <td>0.0</td>\n",
       "      <td>0.0</td>\n",
       "      <td>1.0</td>\n",
       "    </tr>\n",
       "    <tr>\n",
       "      <th>28664</th>\n",
       "      <td>1.904329</td>\n",
       "      <td>-0.146704</td>\n",
       "      <td>0.000000</td>\n",
       "      <td>0.0</td>\n",
       "      <td>0.0</td>\n",
       "      <td>0.0</td>\n",
       "      <td>0.0</td>\n",
       "      <td>0.0</td>\n",
       "      <td>0.0</td>\n",
       "      <td>0.0</td>\n",
       "      <td>...</td>\n",
       "      <td>0.0</td>\n",
       "      <td>0.0</td>\n",
       "      <td>0.0</td>\n",
       "      <td>0.0</td>\n",
       "      <td>0.0</td>\n",
       "      <td>0.0</td>\n",
       "      <td>0.0</td>\n",
       "      <td>0.0</td>\n",
       "      <td>0.0</td>\n",
       "      <td>1.0</td>\n",
       "    </tr>\n",
       "    <tr>\n",
       "      <th>11874</th>\n",
       "      <td>2.377713</td>\n",
       "      <td>-0.077573</td>\n",
       "      <td>-0.110754</td>\n",
       "      <td>0.0</td>\n",
       "      <td>0.0</td>\n",
       "      <td>0.0</td>\n",
       "      <td>0.0</td>\n",
       "      <td>0.0</td>\n",
       "      <td>0.0</td>\n",
       "      <td>0.0</td>\n",
       "      <td>...</td>\n",
       "      <td>0.0</td>\n",
       "      <td>0.0</td>\n",
       "      <td>0.0</td>\n",
       "      <td>0.0</td>\n",
       "      <td>0.0</td>\n",
       "      <td>0.0</td>\n",
       "      <td>0.0</td>\n",
       "      <td>0.0</td>\n",
       "      <td>0.0</td>\n",
       "      <td>1.0</td>\n",
       "    </tr>\n",
       "    <tr>\n",
       "      <th>11431</th>\n",
       "      <td>2.276492</td>\n",
       "      <td>-0.068879</td>\n",
       "      <td>-0.140540</td>\n",
       "      <td>0.0</td>\n",
       "      <td>0.0</td>\n",
       "      <td>0.0</td>\n",
       "      <td>0.0</td>\n",
       "      <td>0.0</td>\n",
       "      <td>0.0</td>\n",
       "      <td>0.0</td>\n",
       "      <td>...</td>\n",
       "      <td>0.0</td>\n",
       "      <td>0.0</td>\n",
       "      <td>0.0</td>\n",
       "      <td>0.0</td>\n",
       "      <td>0.0</td>\n",
       "      <td>0.0</td>\n",
       "      <td>0.0</td>\n",
       "      <td>0.0</td>\n",
       "      <td>0.0</td>\n",
       "      <td>1.0</td>\n",
       "    </tr>\n",
       "  </tbody>\n",
       "</table>\n",
       "<p>40749 rows × 23 columns</p>\n",
       "</div>"
      ],
      "text/plain": [
       "       luxury_sales  fresh_sales  dry_sales  outlet_city_Batticaloa  \\\n",
       "33574      0.756537    -0.257025   2.300092                     1.0   \n",
       "10089     -0.208780    -0.557282   1.394059                     1.0   \n",
       "38329     -1.069072    -0.955602   0.149621                     1.0   \n",
       "11376     -0.287923    -0.633617   1.346008                     1.0   \n",
       "12410     -0.884714    -0.873069   0.218036                     1.0   \n",
       "...             ...          ...        ...                     ...   \n",
       "33698      1.981918    -0.084076  -0.227226                     0.0   \n",
       "4185       1.260067    -0.429549  -0.467172                     0.0   \n",
       "28664      1.904329    -0.146704   0.000000                     0.0   \n",
       "11874      2.377713    -0.077573  -0.110754                     0.0   \n",
       "11431      2.276492    -0.068879  -0.140540                     0.0   \n",
       "\n",
       "       outlet_city_Colombo  outlet_city_Dehiwala-Mount Lavinia  \\\n",
       "33574                  0.0                                 0.0   \n",
       "10089                  0.0                                 0.0   \n",
       "38329                  0.0                                 0.0   \n",
       "11376                  0.0                                 0.0   \n",
       "12410                  0.0                                 0.0   \n",
       "...                    ...                                 ...   \n",
       "33698                  0.0                                 0.0   \n",
       "4185                   0.0                                 0.0   \n",
       "28664                  0.0                                 0.0   \n",
       "11874                  0.0                                 0.0   \n",
       "11431                  0.0                                 0.0   \n",
       "\n",
       "       outlet_city_Galle  outlet_city_Gampaha  outlet_city_Homagama  \\\n",
       "33574                0.0                  0.0                   0.0   \n",
       "10089                0.0                  0.0                   0.0   \n",
       "38329                0.0                  0.0                   0.0   \n",
       "11376                0.0                  0.0                   0.0   \n",
       "12410                0.0                  0.0                   0.0   \n",
       "...                  ...                  ...                   ...   \n",
       "33698                0.0                  0.0                   0.0   \n",
       "4185                 0.0                  0.0                   0.0   \n",
       "28664                0.0                  0.0                   0.0   \n",
       "11874                0.0                  0.0                   0.0   \n",
       "11431                0.0                  0.0                   0.0   \n",
       "\n",
       "       outlet_city_Jaffna  ...  outlet_city_Katunayake  outlet_city_Kelaniya  \\\n",
       "33574                 0.0  ...                     0.0                   0.0   \n",
       "10089                 0.0  ...                     0.0                   0.0   \n",
       "38329                 0.0  ...                     0.0                   0.0   \n",
       "11376                 0.0  ...                     0.0                   0.0   \n",
       "12410                 0.0  ...                     0.0                   0.0   \n",
       "...                   ...  ...                     ...                   ...   \n",
       "33698                 0.0  ...                     0.0                   0.0   \n",
       "4185                  0.0  ...                     0.0                   0.0   \n",
       "28664                 0.0  ...                     0.0                   0.0   \n",
       "11874                 0.0  ...                     0.0                   0.0   \n",
       "11431                 0.0  ...                     0.0                   0.0   \n",
       "\n",
       "       outlet_city_Kotte  outlet_city_Moratuwa  outlet_city_Negombo  \\\n",
       "33574                0.0                   0.0                  0.0   \n",
       "10089                0.0                   0.0                  0.0   \n",
       "38329                0.0                   0.0                  0.0   \n",
       "11376                0.0                   0.0                  0.0   \n",
       "12410                0.0                   0.0                  0.0   \n",
       "...                  ...                   ...                  ...   \n",
       "33698                0.0                   0.0                  0.0   \n",
       "4185                 0.0                   0.0                  0.0   \n",
       "28664                0.0                   0.0                  0.0   \n",
       "11874                0.0                   0.0                  0.0   \n",
       "11431                0.0                   0.0                  0.0   \n",
       "\n",
       "       outlet_city_Nuwara Eliya  outlet_city_Panadura  outlet_city_Peliyagoda  \\\n",
       "33574                       0.0                   0.0                     0.0   \n",
       "10089                       0.0                   0.0                     0.0   \n",
       "38329                       0.0                   0.0                     0.0   \n",
       "11376                       0.0                   0.0                     0.0   \n",
       "12410                       0.0                   0.0                     0.0   \n",
       "...                         ...                   ...                     ...   \n",
       "33698                       0.0                   0.0                     0.0   \n",
       "4185                        0.0                   0.0                     0.0   \n",
       "28664                       0.0                   0.0                     0.0   \n",
       "11874                       0.0                   0.0                     0.0   \n",
       "11431                       0.0                   0.0                     0.0   \n",
       "\n",
       "       outlet_city_Trincomalee  outlet_city_Wattala  \n",
       "33574                      0.0                  0.0  \n",
       "10089                      0.0                  0.0  \n",
       "38329                      0.0                  0.0  \n",
       "11376                      0.0                  0.0  \n",
       "12410                      0.0                  0.0  \n",
       "...                        ...                  ...  \n",
       "33698                      0.0                  1.0  \n",
       "4185                       0.0                  1.0  \n",
       "28664                      0.0                  1.0  \n",
       "11874                      0.0                  1.0  \n",
       "11431                      0.0                  1.0  \n",
       "\n",
       "[40749 rows x 23 columns]"
      ]
     },
     "execution_count": 45,
     "metadata": {},
     "output_type": "execute_result"
    }
   ],
   "source": [
    "transform = preprocessing.StandardScaler()\n",
    "X_new[['luxury_sales','fresh_sales','dry_sales']] = transform.fit_transform(X_new[['luxury_sales','fresh_sales','dry_sales']])\n",
    "X_new"
   ]
  },
  {
   "cell_type": "markdown",
   "id": "c60bb2e4",
   "metadata": {
    "papermill": {
     "duration": 0.022589,
     "end_time": "2024-05-17T05:49:35.132580",
     "exception": false,
     "start_time": "2024-05-17T05:49:35.109991",
     "status": "completed"
    },
    "tags": []
   },
   "source": [
    "### Use one vs all to predict"
   ]
  },
  {
   "cell_type": "code",
   "execution_count": 46,
   "id": "89964a0f",
   "metadata": {
    "execution": {
     "iopub.execute_input": "2024-05-17T05:49:35.185027Z",
     "iopub.status.busy": "2024-05-17T05:49:35.184619Z",
     "iopub.status.idle": "2024-05-17T05:49:35.244244Z",
     "shell.execute_reply": "2024-05-17T05:49:35.243242Z"
    },
    "papermill": {
     "duration": 0.090348,
     "end_time": "2024-05-17T05:49:35.248468",
     "exception": false,
     "start_time": "2024-05-17T05:49:35.158120",
     "status": "completed"
    },
    "tags": []
   },
   "outputs": [],
   "source": [
    "Y_ovr_new = ovr.predict(X_new)\n",
    "test_data['cluster_category'] = Y_ovr_new"
   ]
  },
  {
   "cell_type": "code",
   "execution_count": 47,
   "id": "d84e38c8",
   "metadata": {
    "execution": {
     "iopub.execute_input": "2024-05-17T05:49:35.325883Z",
     "iopub.status.busy": "2024-05-17T05:49:35.325282Z",
     "iopub.status.idle": "2024-05-17T05:49:35.340194Z",
     "shell.execute_reply": "2024-05-17T05:49:35.338897Z"
    },
    "papermill": {
     "duration": 0.056955,
     "end_time": "2024-05-17T05:49:35.343405",
     "exception": false,
     "start_time": "2024-05-17T05:49:35.286450",
     "status": "completed"
    },
    "tags": []
   },
   "outputs": [
    {
     "data": {
      "text/plain": [
       "cluster_category\n",
       "1.0    9956\n",
       "4.0    9067\n",
       "6.0    8891\n",
       "2.0    8177\n",
       "3.0    2576\n",
       "5.0    2082\n",
       "Name: count, dtype: int64"
      ]
     },
     "execution_count": 47,
     "metadata": {},
     "output_type": "execute_result"
    }
   ],
   "source": [
    "test_data['cluster_category'].value_counts()"
   ]
  },
  {
   "cell_type": "code",
   "execution_count": 48,
   "id": "46839ba0",
   "metadata": {
    "execution": {
     "iopub.execute_input": "2024-05-17T05:49:35.397977Z",
     "iopub.status.busy": "2024-05-17T05:49:35.397542Z",
     "iopub.status.idle": "2024-05-17T05:49:35.419834Z",
     "shell.execute_reply": "2024-05-17T05:49:35.418697Z"
    },
    "papermill": {
     "duration": 0.049041,
     "end_time": "2024-05-17T05:49:35.422111",
     "exception": false,
     "start_time": "2024-05-17T05:49:35.373070",
     "status": "completed"
    },
    "tags": []
   },
   "outputs": [
    {
     "data": {
      "text/plain": [
       "cluster_catgeory\n",
       "1.0    188297\n",
       "4.0    171485\n",
       "6.0    168624\n",
       "2.0    154355\n",
       "3.0     48842\n",
       "5.0     39492\n",
       "Name: count, dtype: int64"
      ]
     },
     "execution_count": 48,
     "metadata": {},
     "output_type": "execute_result"
    }
   ],
   "source": [
    "train_data['cluster_catgeory'].value_counts()"
   ]
  },
  {
   "cell_type": "code",
   "execution_count": 49,
   "id": "9773a14e",
   "metadata": {
    "execution": {
     "iopub.execute_input": "2024-05-17T05:49:35.470201Z",
     "iopub.status.busy": "2024-05-17T05:49:35.469431Z",
     "iopub.status.idle": "2024-05-17T05:49:35.485374Z",
     "shell.execute_reply": "2024-05-17T05:49:35.484512Z"
    },
    "papermill": {
     "duration": 0.042734,
     "end_time": "2024-05-17T05:49:35.487647",
     "exception": false,
     "start_time": "2024-05-17T05:49:35.444913",
     "status": "completed"
    },
    "tags": []
   },
   "outputs": [
    {
     "data": {
      "text/html": [
       "<div>\n",
       "<style scoped>\n",
       "    .dataframe tbody tr th:only-of-type {\n",
       "        vertical-align: middle;\n",
       "    }\n",
       "\n",
       "    .dataframe tbody tr th {\n",
       "        vertical-align: top;\n",
       "    }\n",
       "\n",
       "    .dataframe thead th {\n",
       "        text-align: right;\n",
       "    }\n",
       "</style>\n",
       "<table border=\"1\" class=\"dataframe\">\n",
       "  <thead>\n",
       "    <tr style=\"text-align: right;\">\n",
       "      <th></th>\n",
       "      <th>Customer_ID</th>\n",
       "      <th>outlet_city</th>\n",
       "      <th>luxury_sales</th>\n",
       "      <th>fresh_sales</th>\n",
       "      <th>dry_sales</th>\n",
       "      <th>cluster_category</th>\n",
       "    </tr>\n",
       "  </thead>\n",
       "  <tbody>\n",
       "    <tr>\n",
       "      <th>0</th>\n",
       "      <td>33574</td>\n",
       "      <td>Batticaloa</td>\n",
       "      <td>2686.50</td>\n",
       "      <td>3582.00</td>\n",
       "      <td>12537.00</td>\n",
       "      <td>1.0</td>\n",
       "    </tr>\n",
       "    <tr>\n",
       "      <th>1</th>\n",
       "      <td>10089</td>\n",
       "      <td>Batticaloa</td>\n",
       "      <td>1717.56</td>\n",
       "      <td>2576.34</td>\n",
       "      <td>9446.58</td>\n",
       "      <td>1.0</td>\n",
       "    </tr>\n",
       "    <tr>\n",
       "      <th>2</th>\n",
       "      <td>38329</td>\n",
       "      <td>Batticaloa</td>\n",
       "      <td>854.04</td>\n",
       "      <td>1242.24</td>\n",
       "      <td>5201.88</td>\n",
       "      <td>1.0</td>\n",
       "    </tr>\n",
       "    <tr>\n",
       "      <th>3</th>\n",
       "      <td>11376</td>\n",
       "      <td>Batticaloa</td>\n",
       "      <td>1638.12</td>\n",
       "      <td>2320.67</td>\n",
       "      <td>9282.68</td>\n",
       "      <td>1.0</td>\n",
       "    </tr>\n",
       "    <tr>\n",
       "      <th>4</th>\n",
       "      <td>12410</td>\n",
       "      <td>Batticaloa</td>\n",
       "      <td>1039.09</td>\n",
       "      <td>1518.67</td>\n",
       "      <td>5435.24</td>\n",
       "      <td>1.0</td>\n",
       "    </tr>\n",
       "  </tbody>\n",
       "</table>\n",
       "</div>"
      ],
      "text/plain": [
       "   Customer_ID outlet_city  luxury_sales  fresh_sales  dry_sales  \\\n",
       "0        33574  Batticaloa       2686.50      3582.00   12537.00   \n",
       "1        10089  Batticaloa       1717.56      2576.34    9446.58   \n",
       "2        38329  Batticaloa        854.04      1242.24    5201.88   \n",
       "3        11376  Batticaloa       1638.12      2320.67    9282.68   \n",
       "4        12410  Batticaloa       1039.09      1518.67    5435.24   \n",
       "\n",
       "   cluster_category  \n",
       "0               1.0  \n",
       "1               1.0  \n",
       "2               1.0  \n",
       "3               1.0  \n",
       "4               1.0  "
      ]
     },
     "execution_count": 49,
     "metadata": {},
     "output_type": "execute_result"
    }
   ],
   "source": [
    "test_data = test_data.reset_index().rename(columns={'index': 'Customer_ID'})\n",
    "test_data.head()"
   ]
  },
  {
   "cell_type": "markdown",
   "id": "fa6f0277",
   "metadata": {
    "papermill": {
     "duration": 0.021407,
     "end_time": "2024-05-17T05:49:35.530410",
     "exception": false,
     "start_time": "2024-05-17T05:49:35.509003",
     "status": "completed"
    },
    "tags": []
   },
   "source": [
    "### Save data"
   ]
  },
  {
   "cell_type": "code",
   "execution_count": 50,
   "id": "759449de",
   "metadata": {
    "execution": {
     "iopub.execute_input": "2024-05-17T05:49:35.574706Z",
     "iopub.status.busy": "2024-05-17T05:49:35.574094Z",
     "iopub.status.idle": "2024-05-17T05:49:35.629869Z",
     "shell.execute_reply": "2024-05-17T05:49:35.628627Z"
    },
    "papermill": {
     "duration": 0.081255,
     "end_time": "2024-05-17T05:49:35.632882",
     "exception": false,
     "start_time": "2024-05-17T05:49:35.551627",
     "status": "completed"
    },
    "tags": []
   },
   "outputs": [],
   "source": [
    "test_data[['Customer_ID','cluster_category']].to_csv('final_result.csv',index=False)"
   ]
  }
 ],
 "metadata": {
  "kaggle": {
   "accelerator": "none",
   "dataSources": [
    {
     "databundleVersionId": 8564874,
     "sourceId": 78060,
     "sourceType": "competition"
    }
   ],
   "dockerImageVersionId": 30698,
   "isGpuEnabled": false,
   "isInternetEnabled": false,
   "language": "python",
   "sourceType": "notebook"
  },
  "kernelspec": {
   "display_name": "Python 3",
   "language": "python",
   "name": "python3"
  },
  "language_info": {
   "codemirror_mode": {
    "name": "ipython",
    "version": 3
   },
   "file_extension": ".py",
   "mimetype": "text/x-python",
   "name": "python",
   "nbconvert_exporter": "python",
   "pygments_lexer": "ipython3",
   "version": "3.10.13"
  },
  "papermill": {
   "default_parameters": {},
   "duration": 145.448886,
   "end_time": "2024-05-17T05:49:36.377422",
   "environment_variables": {},
   "exception": null,
   "input_path": "__notebook__.ipynb",
   "output_path": "__notebook__.ipynb",
   "parameters": {},
   "start_time": "2024-05-17T05:47:10.928536",
   "version": "2.5.0"
  }
 },
 "nbformat": 4,
 "nbformat_minor": 5
}
